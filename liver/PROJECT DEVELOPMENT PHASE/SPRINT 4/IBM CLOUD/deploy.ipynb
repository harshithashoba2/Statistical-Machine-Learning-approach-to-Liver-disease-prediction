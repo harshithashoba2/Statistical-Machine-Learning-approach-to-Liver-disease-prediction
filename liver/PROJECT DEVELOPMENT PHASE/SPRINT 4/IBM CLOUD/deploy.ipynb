{
 "cells": [
  {
   "cell_type": "markdown",
   "metadata": {
    "id": "weorW6XD2EX0",
    "papermill": {
     "duration": 0.042013,
     "end_time": "2020-11-09T06:55:42.421465",
     "exception": false,
     "start_time": "2020-11-09T06:55:42.379452",
     "status": "completed"
    },
    "tags": []
   },
   "source": [
    "# Classification with XGBoost and hyperparameter optimization"
   ]
  },
  {
   "cell_type": "code",
   "execution_count": 1,
   "metadata": {},
   "outputs": [
    {
     "data": {
      "text/html": [
       "<div>\n",
       "<style scoped>\n",
       "    .dataframe tbody tr th:only-of-type {\n",
       "        vertical-align: middle;\n",
       "    }\n",
       "\n",
       "    .dataframe tbody tr th {\n",
       "        vertical-align: top;\n",
       "    }\n",
       "\n",
       "    .dataframe thead th {\n",
       "        text-align: right;\n",
       "    }\n",
       "</style>\n",
       "<table border=\"1\" class=\"dataframe\">\n",
       "  <thead>\n",
       "    <tr style=\"text-align: right;\">\n",
       "      <th></th>\n",
       "      <th>Age</th>\n",
       "      <th>Gender</th>\n",
       "      <th>Total_Bilirubin</th>\n",
       "      <th>Direct_Bilirubin</th>\n",
       "      <th>Alkaline_Phosphotase</th>\n",
       "      <th>Alamine_Aminotransferase</th>\n",
       "      <th>Aspartate_Aminotransferase</th>\n",
       "      <th>Total_Protiens</th>\n",
       "      <th>Albumin</th>\n",
       "      <th>Albumin_and_Globulin_Ratio</th>\n",
       "      <th>Dataset</th>\n",
       "    </tr>\n",
       "  </thead>\n",
       "  <tbody>\n",
       "    <tr>\n",
       "      <th>0</th>\n",
       "      <td>65</td>\n",
       "      <td>Female</td>\n",
       "      <td>0.7</td>\n",
       "      <td>0.1</td>\n",
       "      <td>187</td>\n",
       "      <td>16</td>\n",
       "      <td>18</td>\n",
       "      <td>6.8</td>\n",
       "      <td>3.3</td>\n",
       "      <td>0.90</td>\n",
       "      <td>1</td>\n",
       "    </tr>\n",
       "    <tr>\n",
       "      <th>1</th>\n",
       "      <td>62</td>\n",
       "      <td>Male</td>\n",
       "      <td>10.9</td>\n",
       "      <td>5.5</td>\n",
       "      <td>699</td>\n",
       "      <td>64</td>\n",
       "      <td>100</td>\n",
       "      <td>7.5</td>\n",
       "      <td>3.2</td>\n",
       "      <td>0.74</td>\n",
       "      <td>1</td>\n",
       "    </tr>\n",
       "    <tr>\n",
       "      <th>2</th>\n",
       "      <td>62</td>\n",
       "      <td>Male</td>\n",
       "      <td>7.3</td>\n",
       "      <td>4.1</td>\n",
       "      <td>490</td>\n",
       "      <td>60</td>\n",
       "      <td>68</td>\n",
       "      <td>7.0</td>\n",
       "      <td>3.3</td>\n",
       "      <td>0.89</td>\n",
       "      <td>1</td>\n",
       "    </tr>\n",
       "    <tr>\n",
       "      <th>3</th>\n",
       "      <td>58</td>\n",
       "      <td>Male</td>\n",
       "      <td>1.0</td>\n",
       "      <td>0.4</td>\n",
       "      <td>182</td>\n",
       "      <td>14</td>\n",
       "      <td>20</td>\n",
       "      <td>6.8</td>\n",
       "      <td>3.4</td>\n",
       "      <td>1.00</td>\n",
       "      <td>1</td>\n",
       "    </tr>\n",
       "    <tr>\n",
       "      <th>4</th>\n",
       "      <td>72</td>\n",
       "      <td>Male</td>\n",
       "      <td>3.9</td>\n",
       "      <td>2.0</td>\n",
       "      <td>195</td>\n",
       "      <td>27</td>\n",
       "      <td>59</td>\n",
       "      <td>7.3</td>\n",
       "      <td>2.4</td>\n",
       "      <td>0.40</td>\n",
       "      <td>1</td>\n",
       "    </tr>\n",
       "  </tbody>\n",
       "</table>\n",
       "</div>"
      ],
      "text/plain": [
       "   Age  Gender  Total_Bilirubin  Direct_Bilirubin  Alkaline_Phosphotase  \\\n",
       "0   65  Female              0.7               0.1                   187   \n",
       "1   62    Male             10.9               5.5                   699   \n",
       "2   62    Male              7.3               4.1                   490   \n",
       "3   58    Male              1.0               0.4                   182   \n",
       "4   72    Male              3.9               2.0                   195   \n",
       "\n",
       "   Alamine_Aminotransferase  Aspartate_Aminotransferase  Total_Protiens  \\\n",
       "0                        16                          18             6.8   \n",
       "1                        64                         100             7.5   \n",
       "2                        60                          68             7.0   \n",
       "3                        14                          20             6.8   \n",
       "4                        27                          59             7.3   \n",
       "\n",
       "   Albumin  Albumin_and_Globulin_Ratio  Dataset  \n",
       "0      3.3                        0.90        1  \n",
       "1      3.2                        0.74        1  \n",
       "2      3.3                        0.89        1  \n",
       "3      3.4                        1.00        1  \n",
       "4      2.4                        0.40        1  "
      ]
     },
     "execution_count": 1,
     "metadata": {},
     "output_type": "execute_result"
    }
   ],
   "source": [
    "\n",
    "import os, types\n",
    "import pandas as pd\n",
    "from botocore.client import Config\n",
    "import ibm_boto3\n",
    "\n",
    "def __iter__(self): return 0\n",
    "\n",
    "# @hidden_cell\n",
    "# The following code accesses a file in your IBM Cloud Object Storage. It includes your credentials.\n",
    "# You might want to remove those credentials before you share the notebook.\n",
    "cos_client = ibm_boto3.client(service_name='s3',\n",
    "    ibm_api_key_id='H5VwX44tXnkARWHk2iauLMRZH9YjyljTgkQ_gGocI93S',\n",
    "    ibm_auth_endpoint=\"https://iam.cloud.ibm.com/oidc/token\",\n",
    "    config=Config(signature_version='oauth'),\n",
    "    endpoint_url='https://s3.private.us.cloud-object-storage.appdomain.cloud')\n",
    "\n",
    "bucket = 'liverdisease-donotdelete-pr-h7ckmnzqjvmqn4'\n",
    "object_key = 'indian_liver_patient.csv'\n",
    "\n",
    "body = cos_client.get_object(Bucket=bucket,Key=object_key)['Body']\n",
    "# add missing __iter__ method, so pandas accepts body as file-like object\n",
    "if not hasattr(body, \"__iter__\"): body.__iter__ = types.MethodType( __iter__, body )\n",
    "\n",
    "df = pd.read_csv(body)\n",
    "df.head()\n"
   ]
  },
  {
   "cell_type": "code",
   "execution_count": 2,
   "metadata": {
    "_cell_guid": "b1076dfc-b9ad-4769-8c92-a6c4dae69d19",
    "_uuid": "8f2839f25d086af736a60e9eeb907d3b93b6e0e5",
    "id": "sgG-uXf92EX2",
    "papermill": {
     "duration": 1.151946,
     "end_time": "2020-11-09T06:55:43.616710",
     "exception": false,
     "start_time": "2020-11-09T06:55:42.464764",
     "status": "completed"
    },
    "tags": []
   },
   "outputs": [],
   "source": [
    "# import required libraries for data analysis\n",
    "import numpy as np\n",
    "import pandas as pd\n",
    "import matplotlib.pyplot as plt\n",
    "import seaborn as sns\n",
    "\n",
    "%matplotlib inline\n",
    "import warnings\n",
    "warnings.filterwarnings('ignore')"
   ]
  },
  {
   "cell_type": "code",
   "execution_count": 3,
   "metadata": {
    "colab": {
     "base_uri": "https://localhost:8080/"
    },
    "id": "kcVooleYO4TR",
    "outputId": "0ee0ac0f-0d23-4ad0-e377-5ab63ad786db"
   },
   "outputs": [
    {
     "name": "stdout",
     "output_type": "stream",
     "text": [
      "Requirement already satisfied: xgboost==1.5.1 in /opt/conda/envs/Python-3.9/lib/python3.9/site-packages (1.5.1)\n",
      "Requirement already satisfied: numpy in /opt/conda/envs/Python-3.9/lib/python3.9/site-packages (from xgboost==1.5.1) (1.20.3)\n",
      "Requirement already satisfied: scipy in /opt/conda/envs/Python-3.9/lib/python3.9/site-packages (from xgboost==1.5.1) (1.7.3)\n",
      "Note: you may need to restart the kernel to use updated packages.\n"
     ]
    }
   ],
   "source": [
    "pip install xgboost==1.5.1"
   ]
  },
  {
   "cell_type": "code",
   "execution_count": 4,
   "metadata": {
    "_cell_guid": "79c7e3d0-c299-4dcb-8224-4455121ee9b0",
    "_uuid": "d629ff2d2480ee46fbb7e2d37f6b5fab8052498a",
    "colab": {
     "base_uri": "https://localhost:8080/",
     "height": 270
    },
    "id": "XHEzQfrK2EX3",
    "outputId": "f58ffd0e-cff3-46fc-8e54-924cd475d9a8",
    "papermill": {
     "duration": 0.086829,
     "end_time": "2020-11-09T06:55:43.744593",
     "exception": false,
     "start_time": "2020-11-09T06:55:43.657764",
     "status": "completed"
    },
    "tags": []
   },
   "outputs": [
    {
     "data": {
      "text/html": [
       "<div>\n",
       "<style scoped>\n",
       "    .dataframe tbody tr th:only-of-type {\n",
       "        vertical-align: middle;\n",
       "    }\n",
       "\n",
       "    .dataframe tbody tr th {\n",
       "        vertical-align: top;\n",
       "    }\n",
       "\n",
       "    .dataframe thead th {\n",
       "        text-align: right;\n",
       "    }\n",
       "</style>\n",
       "<table border=\"1\" class=\"dataframe\">\n",
       "  <thead>\n",
       "    <tr style=\"text-align: right;\">\n",
       "      <th></th>\n",
       "      <th>age</th>\n",
       "      <th>gender</th>\n",
       "      <th>total_bilirubin</th>\n",
       "      <th>direct_bilirubin</th>\n",
       "      <th>alkaline_phosphotase</th>\n",
       "      <th>alamine_aminotransferase</th>\n",
       "      <th>aspartate_aminotransferase</th>\n",
       "      <th>total_protiens</th>\n",
       "      <th>albumin</th>\n",
       "      <th>albumin_and_globulin_ratio</th>\n",
       "      <th>dataset</th>\n",
       "    </tr>\n",
       "  </thead>\n",
       "  <tbody>\n",
       "    <tr>\n",
       "      <th>0</th>\n",
       "      <td>65</td>\n",
       "      <td>Female</td>\n",
       "      <td>0.7</td>\n",
       "      <td>0.1</td>\n",
       "      <td>187</td>\n",
       "      <td>16</td>\n",
       "      <td>18</td>\n",
       "      <td>6.8</td>\n",
       "      <td>3.3</td>\n",
       "      <td>0.90</td>\n",
       "      <td>1</td>\n",
       "    </tr>\n",
       "    <tr>\n",
       "      <th>1</th>\n",
       "      <td>62</td>\n",
       "      <td>Male</td>\n",
       "      <td>10.9</td>\n",
       "      <td>5.5</td>\n",
       "      <td>699</td>\n",
       "      <td>64</td>\n",
       "      <td>100</td>\n",
       "      <td>7.5</td>\n",
       "      <td>3.2</td>\n",
       "      <td>0.74</td>\n",
       "      <td>1</td>\n",
       "    </tr>\n",
       "    <tr>\n",
       "      <th>2</th>\n",
       "      <td>62</td>\n",
       "      <td>Male</td>\n",
       "      <td>7.3</td>\n",
       "      <td>4.1</td>\n",
       "      <td>490</td>\n",
       "      <td>60</td>\n",
       "      <td>68</td>\n",
       "      <td>7.0</td>\n",
       "      <td>3.3</td>\n",
       "      <td>0.89</td>\n",
       "      <td>1</td>\n",
       "    </tr>\n",
       "    <tr>\n",
       "      <th>3</th>\n",
       "      <td>58</td>\n",
       "      <td>Male</td>\n",
       "      <td>1.0</td>\n",
       "      <td>0.4</td>\n",
       "      <td>182</td>\n",
       "      <td>14</td>\n",
       "      <td>20</td>\n",
       "      <td>6.8</td>\n",
       "      <td>3.4</td>\n",
       "      <td>1.00</td>\n",
       "      <td>1</td>\n",
       "    </tr>\n",
       "    <tr>\n",
       "      <th>4</th>\n",
       "      <td>72</td>\n",
       "      <td>Male</td>\n",
       "      <td>3.9</td>\n",
       "      <td>2.0</td>\n",
       "      <td>195</td>\n",
       "      <td>27</td>\n",
       "      <td>59</td>\n",
       "      <td>7.3</td>\n",
       "      <td>2.4</td>\n",
       "      <td>0.40</td>\n",
       "      <td>1</td>\n",
       "    </tr>\n",
       "  </tbody>\n",
       "</table>\n",
       "</div>"
      ],
      "text/plain": [
       "   age  gender  total_bilirubin  direct_bilirubin  alkaline_phosphotase  \\\n",
       "0   65  Female              0.7               0.1                   187   \n",
       "1   62    Male             10.9               5.5                   699   \n",
       "2   62    Male              7.3               4.1                   490   \n",
       "3   58    Male              1.0               0.4                   182   \n",
       "4   72    Male              3.9               2.0                   195   \n",
       "\n",
       "   alamine_aminotransferase  aspartate_aminotransferase  total_protiens  \\\n",
       "0                        16                          18             6.8   \n",
       "1                        64                         100             7.5   \n",
       "2                        60                          68             7.0   \n",
       "3                        14                          20             6.8   \n",
       "4                        27                          59             7.3   \n",
       "\n",
       "   albumin  albumin_and_globulin_ratio  dataset  \n",
       "0      3.3                        0.90        1  \n",
       "1      3.2                        0.74        1  \n",
       "2      3.3                        0.89        1  \n",
       "3      3.4                        1.00        1  \n",
       "4      2.4                        0.40        1  "
      ]
     },
     "execution_count": 4,
     "metadata": {},
     "output_type": "execute_result"
    }
   ],
   "source": [
    "# open csv file\n",
    "\n",
    "df.columns = df.columns.map(str.lower)                              # column names to lowercase\n",
    "df.head()"
   ]
  },
  {
   "cell_type": "code",
   "execution_count": 5,
   "metadata": {
    "colab": {
     "base_uri": "https://localhost:8080/"
    },
    "id": "Uc3vk53Y2EX4",
    "outputId": "7adfdef6-bfa0-46df-f1d2-28ab06f93ea1",
    "papermill": {
     "duration": 0.068807,
     "end_time": "2020-11-09T06:55:43.855959",
     "exception": false,
     "start_time": "2020-11-09T06:55:43.787152",
     "status": "completed"
    },
    "tags": []
   },
   "outputs": [
    {
     "name": "stdout",
     "output_type": "stream",
     "text": [
      "<class 'pandas.core.frame.DataFrame'>\n",
      "RangeIndex: 583 entries, 0 to 582\n",
      "Data columns (total 11 columns):\n",
      " #   Column                      Non-Null Count  Dtype  \n",
      "---  ------                      --------------  -----  \n",
      " 0   age                         583 non-null    int64  \n",
      " 1   gender                      583 non-null    object \n",
      " 2   total_bilirubin             583 non-null    float64\n",
      " 3   direct_bilirubin            583 non-null    float64\n",
      " 4   alkaline_phosphotase        583 non-null    int64  \n",
      " 5   alamine_aminotransferase    583 non-null    int64  \n",
      " 6   aspartate_aminotransferase  583 non-null    int64  \n",
      " 7   total_protiens              583 non-null    float64\n",
      " 8   albumin                     583 non-null    float64\n",
      " 9   albumin_and_globulin_ratio  579 non-null    float64\n",
      " 10  dataset                     583 non-null    int64  \n",
      "dtypes: float64(5), int64(5), object(1)\n",
      "memory usage: 50.2+ KB\n"
     ]
    }
   ],
   "source": [
    "# check data types, it provides also details on null values, so next checking of null values may not be required\n",
    "df.info()"
   ]
  },
  {
   "cell_type": "code",
   "execution_count": 6,
   "metadata": {
    "colab": {
     "base_uri": "https://localhost:8080/",
     "height": 394
    },
    "id": "NOvk1hbT2EX4",
    "outputId": "a0900b51-e4c3-437a-864b-d0b9166c214d",
    "papermill": {
     "duration": 0.109202,
     "end_time": "2020-11-09T06:55:44.007972",
     "exception": false,
     "start_time": "2020-11-09T06:55:43.898770",
     "status": "completed"
    },
    "tags": []
   },
   "outputs": [
    {
     "data": {
      "text/html": [
       "<div>\n",
       "<style scoped>\n",
       "    .dataframe tbody tr th:only-of-type {\n",
       "        vertical-align: middle;\n",
       "    }\n",
       "\n",
       "    .dataframe tbody tr th {\n",
       "        vertical-align: top;\n",
       "    }\n",
       "\n",
       "    .dataframe thead th {\n",
       "        text-align: right;\n",
       "    }\n",
       "</style>\n",
       "<table border=\"1\" class=\"dataframe\">\n",
       "  <thead>\n",
       "    <tr style=\"text-align: right;\">\n",
       "      <th></th>\n",
       "      <th>count</th>\n",
       "      <th>unique</th>\n",
       "      <th>top</th>\n",
       "      <th>freq</th>\n",
       "      <th>mean</th>\n",
       "      <th>std</th>\n",
       "      <th>min</th>\n",
       "      <th>25%</th>\n",
       "      <th>50%</th>\n",
       "      <th>75%</th>\n",
       "      <th>max</th>\n",
       "    </tr>\n",
       "  </thead>\n",
       "  <tbody>\n",
       "    <tr>\n",
       "      <th>age</th>\n",
       "      <td>583.0</td>\n",
       "      <td>NaN</td>\n",
       "      <td>NaN</td>\n",
       "      <td>NaN</td>\n",
       "      <td>44.746141</td>\n",
       "      <td>16.189833</td>\n",
       "      <td>4.0</td>\n",
       "      <td>33.0</td>\n",
       "      <td>45.0</td>\n",
       "      <td>58.0</td>\n",
       "      <td>90.0</td>\n",
       "    </tr>\n",
       "    <tr>\n",
       "      <th>gender</th>\n",
       "      <td>583</td>\n",
       "      <td>2</td>\n",
       "      <td>Male</td>\n",
       "      <td>441</td>\n",
       "      <td>NaN</td>\n",
       "      <td>NaN</td>\n",
       "      <td>NaN</td>\n",
       "      <td>NaN</td>\n",
       "      <td>NaN</td>\n",
       "      <td>NaN</td>\n",
       "      <td>NaN</td>\n",
       "    </tr>\n",
       "    <tr>\n",
       "      <th>total_bilirubin</th>\n",
       "      <td>583.0</td>\n",
       "      <td>NaN</td>\n",
       "      <td>NaN</td>\n",
       "      <td>NaN</td>\n",
       "      <td>3.298799</td>\n",
       "      <td>6.209522</td>\n",
       "      <td>0.4</td>\n",
       "      <td>0.8</td>\n",
       "      <td>1.0</td>\n",
       "      <td>2.6</td>\n",
       "      <td>75.0</td>\n",
       "    </tr>\n",
       "    <tr>\n",
       "      <th>direct_bilirubin</th>\n",
       "      <td>583.0</td>\n",
       "      <td>NaN</td>\n",
       "      <td>NaN</td>\n",
       "      <td>NaN</td>\n",
       "      <td>1.486106</td>\n",
       "      <td>2.808498</td>\n",
       "      <td>0.1</td>\n",
       "      <td>0.2</td>\n",
       "      <td>0.3</td>\n",
       "      <td>1.3</td>\n",
       "      <td>19.7</td>\n",
       "    </tr>\n",
       "    <tr>\n",
       "      <th>alkaline_phosphotase</th>\n",
       "      <td>583.0</td>\n",
       "      <td>NaN</td>\n",
       "      <td>NaN</td>\n",
       "      <td>NaN</td>\n",
       "      <td>290.576329</td>\n",
       "      <td>242.937989</td>\n",
       "      <td>63.0</td>\n",
       "      <td>175.5</td>\n",
       "      <td>208.0</td>\n",
       "      <td>298.0</td>\n",
       "      <td>2110.0</td>\n",
       "    </tr>\n",
       "    <tr>\n",
       "      <th>alamine_aminotransferase</th>\n",
       "      <td>583.0</td>\n",
       "      <td>NaN</td>\n",
       "      <td>NaN</td>\n",
       "      <td>NaN</td>\n",
       "      <td>80.713551</td>\n",
       "      <td>182.620356</td>\n",
       "      <td>10.0</td>\n",
       "      <td>23.0</td>\n",
       "      <td>35.0</td>\n",
       "      <td>60.5</td>\n",
       "      <td>2000.0</td>\n",
       "    </tr>\n",
       "    <tr>\n",
       "      <th>aspartate_aminotransferase</th>\n",
       "      <td>583.0</td>\n",
       "      <td>NaN</td>\n",
       "      <td>NaN</td>\n",
       "      <td>NaN</td>\n",
       "      <td>109.910806</td>\n",
       "      <td>288.918529</td>\n",
       "      <td>10.0</td>\n",
       "      <td>25.0</td>\n",
       "      <td>42.0</td>\n",
       "      <td>87.0</td>\n",
       "      <td>4929.0</td>\n",
       "    </tr>\n",
       "    <tr>\n",
       "      <th>total_protiens</th>\n",
       "      <td>583.0</td>\n",
       "      <td>NaN</td>\n",
       "      <td>NaN</td>\n",
       "      <td>NaN</td>\n",
       "      <td>6.48319</td>\n",
       "      <td>1.085451</td>\n",
       "      <td>2.7</td>\n",
       "      <td>5.8</td>\n",
       "      <td>6.6</td>\n",
       "      <td>7.2</td>\n",
       "      <td>9.6</td>\n",
       "    </tr>\n",
       "    <tr>\n",
       "      <th>albumin</th>\n",
       "      <td>583.0</td>\n",
       "      <td>NaN</td>\n",
       "      <td>NaN</td>\n",
       "      <td>NaN</td>\n",
       "      <td>3.141852</td>\n",
       "      <td>0.795519</td>\n",
       "      <td>0.9</td>\n",
       "      <td>2.6</td>\n",
       "      <td>3.1</td>\n",
       "      <td>3.8</td>\n",
       "      <td>5.5</td>\n",
       "    </tr>\n",
       "    <tr>\n",
       "      <th>albumin_and_globulin_ratio</th>\n",
       "      <td>579.0</td>\n",
       "      <td>NaN</td>\n",
       "      <td>NaN</td>\n",
       "      <td>NaN</td>\n",
       "      <td>0.947064</td>\n",
       "      <td>0.319592</td>\n",
       "      <td>0.3</td>\n",
       "      <td>0.7</td>\n",
       "      <td>0.93</td>\n",
       "      <td>1.1</td>\n",
       "      <td>2.8</td>\n",
       "    </tr>\n",
       "    <tr>\n",
       "      <th>dataset</th>\n",
       "      <td>583.0</td>\n",
       "      <td>NaN</td>\n",
       "      <td>NaN</td>\n",
       "      <td>NaN</td>\n",
       "      <td>1.286449</td>\n",
       "      <td>0.45249</td>\n",
       "      <td>1.0</td>\n",
       "      <td>1.0</td>\n",
       "      <td>1.0</td>\n",
       "      <td>2.0</td>\n",
       "      <td>2.0</td>\n",
       "    </tr>\n",
       "  </tbody>\n",
       "</table>\n",
       "</div>"
      ],
      "text/plain": [
       "                            count unique   top freq        mean         std  \\\n",
       "age                         583.0    NaN   NaN  NaN   44.746141   16.189833   \n",
       "gender                        583      2  Male  441         NaN         NaN   \n",
       "total_bilirubin             583.0    NaN   NaN  NaN    3.298799    6.209522   \n",
       "direct_bilirubin            583.0    NaN   NaN  NaN    1.486106    2.808498   \n",
       "alkaline_phosphotase        583.0    NaN   NaN  NaN  290.576329  242.937989   \n",
       "alamine_aminotransferase    583.0    NaN   NaN  NaN   80.713551  182.620356   \n",
       "aspartate_aminotransferase  583.0    NaN   NaN  NaN  109.910806  288.918529   \n",
       "total_protiens              583.0    NaN   NaN  NaN     6.48319    1.085451   \n",
       "albumin                     583.0    NaN   NaN  NaN    3.141852    0.795519   \n",
       "albumin_and_globulin_ratio  579.0    NaN   NaN  NaN    0.947064    0.319592   \n",
       "dataset                     583.0    NaN   NaN  NaN    1.286449     0.45249   \n",
       "\n",
       "                             min    25%    50%    75%     max  \n",
       "age                          4.0   33.0   45.0   58.0    90.0  \n",
       "gender                       NaN    NaN    NaN    NaN     NaN  \n",
       "total_bilirubin              0.4    0.8    1.0    2.6    75.0  \n",
       "direct_bilirubin             0.1    0.2    0.3    1.3    19.7  \n",
       "alkaline_phosphotase        63.0  175.5  208.0  298.0  2110.0  \n",
       "alamine_aminotransferase    10.0   23.0   35.0   60.5  2000.0  \n",
       "aspartate_aminotransferase  10.0   25.0   42.0   87.0  4929.0  \n",
       "total_protiens               2.7    5.8    6.6    7.2     9.6  \n",
       "albumin                      0.9    2.6    3.1    3.8     5.5  \n",
       "albumin_and_globulin_ratio   0.3    0.7   0.93    1.1     2.8  \n",
       "dataset                      1.0    1.0    1.0    2.0     2.0  "
      ]
     },
     "execution_count": 6,
     "metadata": {},
     "output_type": "execute_result"
    }
   ],
   "source": [
    "df.describe(include='all').T"
   ]
  },
  {
   "cell_type": "markdown",
   "metadata": {
    "id": "EBJQ_1WE2EX5",
    "papermill": {
     "duration": 0.042578,
     "end_time": "2020-11-09T06:55:44.094387",
     "exception": false,
     "start_time": "2020-11-09T06:55:44.051809",
     "status": "completed"
    },
    "tags": []
   },
   "source": [
    "### What can we see from describe & info ?\n",
    "- for gender we have 2 unique values - sounds reasonable\n",
    "- there seems to be extremes for several fields (compare 75% with max) - we will have to fix it\n",
    "- dataset, our target variable, has 2 values\n",
    "- albumin_and_globulin_ratio have some missing values those must be handled"
   ]
  },
  {
   "cell_type": "markdown",
   "metadata": {
    "id": "vU8gsxOy2EX5",
    "papermill": {
     "duration": 0.042762,
     "end_time": "2020-11-09T06:55:44.180455",
     "exception": false,
     "start_time": "2020-11-09T06:55:44.137693",
     "status": "completed"
    },
    "tags": []
   },
   "source": [
    "### Handle missing values\n",
    "We are going to fix missing values on albumin_and_globulin_ratio field, easiest way is often best way, so just replace it with mean or median"
   ]
  },
  {
   "cell_type": "code",
   "execution_count": 7,
   "metadata": {
    "id": "KCO5LXee2EX5",
    "papermill": {
     "duration": 0.053024,
     "end_time": "2020-11-09T06:55:44.276484",
     "exception": false,
     "start_time": "2020-11-09T06:55:44.223460",
     "status": "completed"
    },
    "tags": []
   },
   "outputs": [],
   "source": [
    "# replacing missing values with mean\n",
    "df.albumin_and_globulin_ratio.fillna(df.albumin_and_globulin_ratio.mean(), inplace=True)"
   ]
  },
  {
   "cell_type": "code",
   "execution_count": 8,
   "metadata": {
    "colab": {
     "base_uri": "https://localhost:8080/"
    },
    "id": "RkI6vZ1i2EX6",
    "outputId": "387c8366-a6e4-4ef7-8346-5488487aaf38",
    "papermill": {
     "duration": 0.061649,
     "end_time": "2020-11-09T06:55:44.381396",
     "exception": false,
     "start_time": "2020-11-09T06:55:44.319747",
     "status": "completed"
    },
    "tags": []
   },
   "outputs": [
    {
     "name": "stdout",
     "output_type": "stream",
     "text": [
      "<class 'pandas.core.frame.DataFrame'>\n",
      "RangeIndex: 583 entries, 0 to 582\n",
      "Data columns (total 11 columns):\n",
      " #   Column                      Non-Null Count  Dtype  \n",
      "---  ------                      --------------  -----  \n",
      " 0   age                         583 non-null    int64  \n",
      " 1   gender                      583 non-null    object \n",
      " 2   total_bilirubin             583 non-null    float64\n",
      " 3   direct_bilirubin            583 non-null    float64\n",
      " 4   alkaline_phosphotase        583 non-null    int64  \n",
      " 5   alamine_aminotransferase    583 non-null    int64  \n",
      " 6   aspartate_aminotransferase  583 non-null    int64  \n",
      " 7   total_protiens              583 non-null    float64\n",
      " 8   albumin                     583 non-null    float64\n",
      " 9   albumin_and_globulin_ratio  583 non-null    float64\n",
      " 10  dataset                     583 non-null    int64  \n",
      "dtypes: float64(5), int64(5), object(1)\n",
      "memory usage: 50.2+ KB\n"
     ]
    }
   ],
   "source": [
    "# are there still any missing values?\n",
    "df.info()"
   ]
  },
  {
   "cell_type": "markdown",
   "metadata": {
    "id": "CBaK2cag2EX6",
    "papermill": {
     "duration": 0.042527,
     "end_time": "2020-11-09T06:55:44.468132",
     "exception": false,
     "start_time": "2020-11-09T06:55:44.425605",
     "status": "completed"
    },
    "tags": []
   },
   "source": [
    "## Let's start exploratory data analysis (EDA)\n",
    "Most datascientist will tell you that EDA is most funny part of datascience work. You are exploring different relations between data and how they interact... so do it!"
   ]
  },
  {
   "cell_type": "code",
   "execution_count": 9,
   "metadata": {
    "id": "zCRuU4C72EX6",
    "papermill": {
     "duration": 52.847378,
     "end_time": "2020-11-09T06:56:37.358965",
     "exception": false,
     "start_time": "2020-11-09T06:55:44.511587",
     "status": "completed"
    },
    "tags": []
   },
   "outputs": [],
   "source": [
    "# # correlation between variables\n",
    "# sns.set()\n",
    "# sns.pairplot(df, kind='reg')"
   ]
  },
  {
   "cell_type": "code",
   "execution_count": 10,
   "metadata": {
    "id": "A0T9vBM-2EX6",
    "papermill": {
     "duration": 65.255533,
     "end_time": "2020-11-09T06:57:42.671169",
     "exception": false,
     "start_time": "2020-11-09T06:56:37.415636",
     "status": "completed"
    },
    "tags": []
   },
   "outputs": [],
   "source": [
    "# # correlation between variables\n",
    "# sns.set()\n",
    "# sns.pairplot(df, hue='dataset', kind='reg')"
   ]
  },
  {
   "cell_type": "code",
   "execution_count": 11,
   "metadata": {
    "colab": {
     "base_uri": "https://localhost:8080/"
    },
    "id": "pclagyPi2EX6",
    "outputId": "e132ddd5-4eb7-4f85-a433-004237d38404",
    "papermill": {
     "duration": 0.0864,
     "end_time": "2020-11-09T06:57:42.826666",
     "exception": false,
     "start_time": "2020-11-09T06:57:42.740266",
     "status": "completed"
    },
    "tags": []
   },
   "outputs": [
    {
     "data": {
      "text/plain": [
       "age                          -0.137351\n",
       "total_bilirubin              -0.220208\n",
       "direct_bilirubin             -0.246046\n",
       "alkaline_phosphotase         -0.184866\n",
       "alamine_aminotransferase     -0.163416\n",
       "aspartate_aminotransferase   -0.151934\n",
       "total_protiens                0.035008\n",
       "albumin                       0.161388\n",
       "albumin_and_globulin_ratio    0.162319\n",
       "dataset                       1.000000\n",
       "Name: dataset, dtype: float64"
      ]
     },
     "execution_count": 11,
     "metadata": {},
     "output_type": "execute_result"
    }
   ],
   "source": [
    "# correlation with dataset - target value\n",
    "df.corr()['dataset']"
   ]
  },
  {
   "cell_type": "code",
   "execution_count": 12,
   "metadata": {
    "colab": {
     "base_uri": "https://localhost:8080/",
     "height": 383
    },
    "id": "eWO-UAzX2EX7",
    "outputId": "ae354c03-f41f-4fac-ce48-ce1c8843558f",
    "papermill": {
     "duration": 0.306014,
     "end_time": "2020-11-09T06:57:43.211995",
     "exception": false,
     "start_time": "2020-11-09T06:57:42.905981",
     "status": "completed"
    },
    "tags": []
   },
   "outputs": [
    {
     "data": {
      "text/html": [
       "<style type=\"text/css\">\n",
       "#T_3a98e_row0_col0, #T_3a98e_row1_col1, #T_3a98e_row2_col2, #T_3a98e_row3_col3, #T_3a98e_row4_col4, #T_3a98e_row5_col5, #T_3a98e_row6_col6, #T_3a98e_row7_col7, #T_3a98e_row8_col8, #T_3a98e_row9_col9 {\n",
       "  background-color: #fde725;\n",
       "  color: #000000;\n",
       "}\n",
       "#T_3a98e_row0_col1, #T_3a98e_row5_col0 {\n",
       "  background-color: #424186;\n",
       "  color: #f1f1f1;\n",
       "}\n",
       "#T_3a98e_row0_col2 {\n",
       "  background-color: #404588;\n",
       "  color: #f1f1f1;\n",
       "}\n",
       "#T_3a98e_row0_col3 {\n",
       "  background-color: #3a538b;\n",
       "  color: #f1f1f1;\n",
       "}\n",
       "#T_3a98e_row0_col4, #T_3a98e_row4_col9 {\n",
       "  background-color: #48186a;\n",
       "  color: #f1f1f1;\n",
       "}\n",
       "#T_3a98e_row0_col5, #T_3a98e_row7_col4 {\n",
       "  background-color: #482979;\n",
       "  color: #f1f1f1;\n",
       "}\n",
       "#T_3a98e_row0_col6, #T_3a98e_row0_col7, #T_3a98e_row2_col9, #T_3a98e_row3_col8, #T_3a98e_row7_col0, #T_3a98e_row7_col1, #T_3a98e_row8_col3, #T_3a98e_row9_col1, #T_3a98e_row9_col2, #T_3a98e_row9_col4, #T_3a98e_row9_col5 {\n",
       "  background-color: #440154;\n",
       "  color: #f1f1f1;\n",
       "}\n",
       "#T_3a98e_row0_col8, #T_3a98e_row7_col2, #T_3a98e_row8_col1 {\n",
       "  background-color: #450559;\n",
       "  color: #f1f1f1;\n",
       "}\n",
       "#T_3a98e_row0_col9 {\n",
       "  background-color: #482071;\n",
       "  color: #f1f1f1;\n",
       "}\n",
       "#T_3a98e_row1_col0 {\n",
       "  background-color: #3e4989;\n",
       "  color: #f1f1f1;\n",
       "}\n",
       "#T_3a98e_row1_col2 {\n",
       "  background-color: #bddf26;\n",
       "  color: #000000;\n",
       "}\n",
       "#T_3a98e_row1_col3, #T_3a98e_row2_col5, #T_3a98e_row4_col1 {\n",
       "  background-color: #2e6e8e;\n",
       "  color: #f1f1f1;\n",
       "}\n",
       "#T_3a98e_row1_col4, #T_3a98e_row5_col3, #T_3a98e_row7_col9, #T_3a98e_row8_col9 {\n",
       "  background-color: #31668e;\n",
       "  color: #f1f1f1;\n",
       "}\n",
       "#T_3a98e_row1_col5, #T_3a98e_row9_col7 {\n",
       "  background-color: #30698e;\n",
       "  color: #f1f1f1;\n",
       "}\n",
       "#T_3a98e_row1_col6 {\n",
       "  background-color: #463480;\n",
       "  color: #f1f1f1;\n",
       "}\n",
       "#T_3a98e_row1_col7 {\n",
       "  background-color: #470d60;\n",
       "  color: #f1f1f1;\n",
       "}\n",
       "#T_3a98e_row1_col8, #T_3a98e_row1_col9 {\n",
       "  background-color: #46085c;\n",
       "  color: #f1f1f1;\n",
       "}\n",
       "#T_3a98e_row2_col0 {\n",
       "  background-color: #3f4889;\n",
       "  color: #f1f1f1;\n",
       "}\n",
       "#T_3a98e_row2_col1 {\n",
       "  background-color: #bade28;\n",
       "  color: #000000;\n",
       "}\n",
       "#T_3a98e_row2_col3, #T_3a98e_row6_col8 {\n",
       "  background-color: #2c738e;\n",
       "  color: #f1f1f1;\n",
       "}\n",
       "#T_3a98e_row2_col4 {\n",
       "  background-color: #306a8e;\n",
       "  color: #f1f1f1;\n",
       "}\n",
       "#T_3a98e_row2_col6 {\n",
       "  background-color: #453781;\n",
       "  color: #f1f1f1;\n",
       "}\n",
       "#T_3a98e_row2_col7, #T_3a98e_row2_col8 {\n",
       "  background-color: #460b5e;\n",
       "  color: #f1f1f1;\n",
       "}\n",
       "#T_3a98e_row3_col0, #T_3a98e_row3_col5 {\n",
       "  background-color: #38598c;\n",
       "  color: #f1f1f1;\n",
       "}\n",
       "#T_3a98e_row3_col1 {\n",
       "  background-color: #2f6c8e;\n",
       "  color: #f1f1f1;\n",
       "}\n",
       "#T_3a98e_row3_col2, #T_3a98e_row4_col2 {\n",
       "  background-color: #2b748e;\n",
       "  color: #f1f1f1;\n",
       "}\n",
       "#T_3a98e_row3_col4 {\n",
       "  background-color: #3b518b;\n",
       "  color: #f1f1f1;\n",
       "}\n",
       "#T_3a98e_row3_col6, #T_3a98e_row5_col6, #T_3a98e_row5_col8 {\n",
       "  background-color: #472f7d;\n",
       "  color: #f1f1f1;\n",
       "}\n",
       "#T_3a98e_row3_col7 {\n",
       "  background-color: #481d6f;\n",
       "  color: #f1f1f1;\n",
       "}\n",
       "#T_3a98e_row3_col9 {\n",
       "  background-color: #471365;\n",
       "  color: #f1f1f1;\n",
       "}\n",
       "#T_3a98e_row4_col0, #T_3a98e_row5_col7 {\n",
       "  background-color: #46327e;\n",
       "  color: #f1f1f1;\n",
       "}\n",
       "#T_3a98e_row4_col3 {\n",
       "  background-color: #365d8d;\n",
       "  color: #f1f1f1;\n",
       "}\n",
       "#T_3a98e_row4_col5, #T_3a98e_row7_col6 {\n",
       "  background-color: #86d549;\n",
       "  color: #000000;\n",
       "}\n",
       "#T_3a98e_row4_col6 {\n",
       "  background-color: #472c7a;\n",
       "  color: #f1f1f1;\n",
       "}\n",
       "#T_3a98e_row4_col7, #T_3a98e_row9_col6 {\n",
       "  background-color: #423f85;\n",
       "  color: #f1f1f1;\n",
       "}\n",
       "#T_3a98e_row4_col8 {\n",
       "  background-color: #424086;\n",
       "  color: #f1f1f1;\n",
       "}\n",
       "#T_3a98e_row5_col1 {\n",
       "  background-color: #2c728e;\n",
       "  color: #f1f1f1;\n",
       "}\n",
       "#T_3a98e_row5_col2 {\n",
       "  background-color: #29798e;\n",
       "  color: #f1f1f1;\n",
       "}\n",
       "#T_3a98e_row5_col4 {\n",
       "  background-color: #89d548;\n",
       "  color: #000000;\n",
       "}\n",
       "#T_3a98e_row5_col9 {\n",
       "  background-color: #481c6e;\n",
       "  color: #f1f1f1;\n",
       "}\n",
       "#T_3a98e_row6_col0 {\n",
       "  background-color: #481769;\n",
       "  color: #f1f1f1;\n",
       "}\n",
       "#T_3a98e_row6_col1 {\n",
       "  background-color: #443b84;\n",
       "  color: #f1f1f1;\n",
       "}\n",
       "#T_3a98e_row6_col2 {\n",
       "  background-color: #414287;\n",
       "  color: #f1f1f1;\n",
       "}\n",
       "#T_3a98e_row6_col3 {\n",
       "  background-color: #443983;\n",
       "  color: #f1f1f1;\n",
       "}\n",
       "#T_3a98e_row6_col4, #T_3a98e_row9_col0 {\n",
       "  background-color: #482576;\n",
       "  color: #f1f1f1;\n",
       "}\n",
       "#T_3a98e_row6_col5 {\n",
       "  background-color: #482878;\n",
       "  color: #f1f1f1;\n",
       "}\n",
       "#T_3a98e_row6_col7 {\n",
       "  background-color: #8ed645;\n",
       "  color: #000000;\n",
       "}\n",
       "#T_3a98e_row6_col9 {\n",
       "  background-color: #3e4a89;\n",
       "  color: #f1f1f1;\n",
       "}\n",
       "#T_3a98e_row7_col3, #T_3a98e_row7_col5 {\n",
       "  background-color: #481668;\n",
       "  color: #f1f1f1;\n",
       "}\n",
       "#T_3a98e_row7_col8 {\n",
       "  background-color: #5ac864;\n",
       "  color: #000000;\n",
       "}\n",
       "#T_3a98e_row8_col0, #T_3a98e_row9_col3 {\n",
       "  background-color: #471063;\n",
       "  color: #f1f1f1;\n",
       "}\n",
       "#T_3a98e_row8_col2 {\n",
       "  background-color: #470e61;\n",
       "  color: #f1f1f1;\n",
       "}\n",
       "#T_3a98e_row8_col4 {\n",
       "  background-color: #46307e;\n",
       "  color: #f1f1f1;\n",
       "}\n",
       "#T_3a98e_row8_col5 {\n",
       "  background-color: #481b6d;\n",
       "  color: #f1f1f1;\n",
       "}\n",
       "#T_3a98e_row8_col6 {\n",
       "  background-color: #2e6d8e;\n",
       "  color: #f1f1f1;\n",
       "}\n",
       "#T_3a98e_row8_col7 {\n",
       "  background-color: #5ec962;\n",
       "  color: #000000;\n",
       "}\n",
       "#T_3a98e_row9_col8 {\n",
       "  background-color: #32658e;\n",
       "  color: #f1f1f1;\n",
       "}\n",
       "</style>\n",
       "<table id=\"T_3a98e_\">\n",
       "  <thead>\n",
       "    <tr>\n",
       "      <th class=\"blank level0\" >&nbsp;</th>\n",
       "      <th class=\"col_heading level0 col0\" >age</th>\n",
       "      <th class=\"col_heading level0 col1\" >total_bilirubin</th>\n",
       "      <th class=\"col_heading level0 col2\" >direct_bilirubin</th>\n",
       "      <th class=\"col_heading level0 col3\" >alkaline_phosphotase</th>\n",
       "      <th class=\"col_heading level0 col4\" >alamine_aminotransferase</th>\n",
       "      <th class=\"col_heading level0 col5\" >aspartate_aminotransferase</th>\n",
       "      <th class=\"col_heading level0 col6\" >total_protiens</th>\n",
       "      <th class=\"col_heading level0 col7\" >albumin</th>\n",
       "      <th class=\"col_heading level0 col8\" >albumin_and_globulin_ratio</th>\n",
       "      <th class=\"col_heading level0 col9\" >dataset</th>\n",
       "    </tr>\n",
       "  </thead>\n",
       "  <tbody>\n",
       "    <tr>\n",
       "      <th id=\"T_3a98e_level0_row0\" class=\"row_heading level0 row0\" >age</th>\n",
       "      <td id=\"T_3a98e_row0_col0\" class=\"data row0 col0\" >1.000000</td>\n",
       "      <td id=\"T_3a98e_row0_col1\" class=\"data row0 col1\" >0.011763</td>\n",
       "      <td id=\"T_3a98e_row0_col2\" class=\"data row0 col2\" >0.007529</td>\n",
       "      <td id=\"T_3a98e_row0_col3\" class=\"data row0 col3\" >0.080425</td>\n",
       "      <td id=\"T_3a98e_row0_col4\" class=\"data row0 col4\" >-0.086883</td>\n",
       "      <td id=\"T_3a98e_row0_col5\" class=\"data row0 col5\" >-0.019910</td>\n",
       "      <td id=\"T_3a98e_row0_col6\" class=\"data row0 col6\" >-0.187461</td>\n",
       "      <td id=\"T_3a98e_row0_col7\" class=\"data row0 col7\" >-0.265924</td>\n",
       "      <td id=\"T_3a98e_row0_col8\" class=\"data row0 col8\" >-0.216089</td>\n",
       "      <td id=\"T_3a98e_row0_col9\" class=\"data row0 col9\" >-0.137351</td>\n",
       "    </tr>\n",
       "    <tr>\n",
       "      <th id=\"T_3a98e_level0_row1\" class=\"row_heading level0 row1\" >total_bilirubin</th>\n",
       "      <td id=\"T_3a98e_row1_col0\" class=\"data row1 col0\" >0.011763</td>\n",
       "      <td id=\"T_3a98e_row1_col1\" class=\"data row1 col1\" >1.000000</td>\n",
       "      <td id=\"T_3a98e_row1_col2\" class=\"data row1 col2\" >0.874618</td>\n",
       "      <td id=\"T_3a98e_row1_col3\" class=\"data row1 col3\" >0.206669</td>\n",
       "      <td id=\"T_3a98e_row1_col4\" class=\"data row1 col4\" >0.214065</td>\n",
       "      <td id=\"T_3a98e_row1_col5\" class=\"data row1 col5\" >0.237831</td>\n",
       "      <td id=\"T_3a98e_row1_col6\" class=\"data row1 col6\" >-0.008099</td>\n",
       "      <td id=\"T_3a98e_row1_col7\" class=\"data row1 col7\" >-0.222250</td>\n",
       "      <td id=\"T_3a98e_row1_col8\" class=\"data row1 col8\" >-0.206159</td>\n",
       "      <td id=\"T_3a98e_row1_col9\" class=\"data row1 col9\" >-0.220208</td>\n",
       "    </tr>\n",
       "    <tr>\n",
       "      <th id=\"T_3a98e_level0_row2\" class=\"row_heading level0 row2\" >direct_bilirubin</th>\n",
       "      <td id=\"T_3a98e_row2_col0\" class=\"data row2 col0\" >0.007529</td>\n",
       "      <td id=\"T_3a98e_row2_col1\" class=\"data row2 col1\" >0.874618</td>\n",
       "      <td id=\"T_3a98e_row2_col2\" class=\"data row2 col2\" >1.000000</td>\n",
       "      <td id=\"T_3a98e_row2_col3\" class=\"data row2 col3\" >0.234939</td>\n",
       "      <td id=\"T_3a98e_row2_col4\" class=\"data row2 col4\" >0.233894</td>\n",
       "      <td id=\"T_3a98e_row2_col5\" class=\"data row2 col5\" >0.257544</td>\n",
       "      <td id=\"T_3a98e_row2_col6\" class=\"data row2 col6\" >-0.000139</td>\n",
       "      <td id=\"T_3a98e_row2_col7\" class=\"data row2 col7\" >-0.228531</td>\n",
       "      <td id=\"T_3a98e_row2_col8\" class=\"data row2 col8\" >-0.200004</td>\n",
       "      <td id=\"T_3a98e_row2_col9\" class=\"data row2 col9\" >-0.246046</td>\n",
       "    </tr>\n",
       "    <tr>\n",
       "      <th id=\"T_3a98e_level0_row3\" class=\"row_heading level0 row3\" >alkaline_phosphotase</th>\n",
       "      <td id=\"T_3a98e_row3_col0\" class=\"data row3 col0\" >0.080425</td>\n",
       "      <td id=\"T_3a98e_row3_col1\" class=\"data row3 col1\" >0.206669</td>\n",
       "      <td id=\"T_3a98e_row3_col2\" class=\"data row3 col2\" >0.234939</td>\n",
       "      <td id=\"T_3a98e_row3_col3\" class=\"data row3 col3\" >1.000000</td>\n",
       "      <td id=\"T_3a98e_row3_col4\" class=\"data row3 col4\" >0.125680</td>\n",
       "      <td id=\"T_3a98e_row3_col5\" class=\"data row3 col5\" >0.167196</td>\n",
       "      <td id=\"T_3a98e_row3_col6\" class=\"data row3 col6\" >-0.028514</td>\n",
       "      <td id=\"T_3a98e_row3_col7\" class=\"data row3 col7\" >-0.165453</td>\n",
       "      <td id=\"T_3a98e_row3_col8\" class=\"data row3 col8\" >-0.233960</td>\n",
       "      <td id=\"T_3a98e_row3_col9\" class=\"data row3 col9\" >-0.184866</td>\n",
       "    </tr>\n",
       "    <tr>\n",
       "      <th id=\"T_3a98e_level0_row4\" class=\"row_heading level0 row4\" >alamine_aminotransferase</th>\n",
       "      <td id=\"T_3a98e_row4_col0\" class=\"data row4 col0\" >-0.086883</td>\n",
       "      <td id=\"T_3a98e_row4_col1\" class=\"data row4 col1\" >0.214065</td>\n",
       "      <td id=\"T_3a98e_row4_col2\" class=\"data row4 col2\" >0.233894</td>\n",
       "      <td id=\"T_3a98e_row4_col3\" class=\"data row4 col3\" >0.125680</td>\n",
       "      <td id=\"T_3a98e_row4_col4\" class=\"data row4 col4\" >1.000000</td>\n",
       "      <td id=\"T_3a98e_row4_col5\" class=\"data row4 col5\" >0.791966</td>\n",
       "      <td id=\"T_3a98e_row4_col6\" class=\"data row4 col6\" >-0.042518</td>\n",
       "      <td id=\"T_3a98e_row4_col7\" class=\"data row4 col7\" >-0.029742</td>\n",
       "      <td id=\"T_3a98e_row4_col8\" class=\"data row4 col8\" >-0.002374</td>\n",
       "      <td id=\"T_3a98e_row4_col9\" class=\"data row4 col9\" >-0.163416</td>\n",
       "    </tr>\n",
       "    <tr>\n",
       "      <th id=\"T_3a98e_level0_row5\" class=\"row_heading level0 row5\" >aspartate_aminotransferase</th>\n",
       "      <td id=\"T_3a98e_row5_col0\" class=\"data row5 col0\" >-0.019910</td>\n",
       "      <td id=\"T_3a98e_row5_col1\" class=\"data row5 col1\" >0.237831</td>\n",
       "      <td id=\"T_3a98e_row5_col2\" class=\"data row5 col2\" >0.257544</td>\n",
       "      <td id=\"T_3a98e_row5_col3\" class=\"data row5 col3\" >0.167196</td>\n",
       "      <td id=\"T_3a98e_row5_col4\" class=\"data row5 col4\" >0.791966</td>\n",
       "      <td id=\"T_3a98e_row5_col5\" class=\"data row5 col5\" >1.000000</td>\n",
       "      <td id=\"T_3a98e_row5_col6\" class=\"data row5 col6\" >-0.025645</td>\n",
       "      <td id=\"T_3a98e_row5_col7\" class=\"data row5 col7\" >-0.085290</td>\n",
       "      <td id=\"T_3a98e_row5_col8\" class=\"data row5 col8\" >-0.070024</td>\n",
       "      <td id=\"T_3a98e_row5_col9\" class=\"data row5 col9\" >-0.151934</td>\n",
       "    </tr>\n",
       "    <tr>\n",
       "      <th id=\"T_3a98e_level0_row6\" class=\"row_heading level0 row6\" >total_protiens</th>\n",
       "      <td id=\"T_3a98e_row6_col0\" class=\"data row6 col0\" >-0.187461</td>\n",
       "      <td id=\"T_3a98e_row6_col1\" class=\"data row6 col1\" >-0.008099</td>\n",
       "      <td id=\"T_3a98e_row6_col2\" class=\"data row6 col2\" >-0.000139</td>\n",
       "      <td id=\"T_3a98e_row6_col3\" class=\"data row6 col3\" >-0.028514</td>\n",
       "      <td id=\"T_3a98e_row6_col4\" class=\"data row6 col4\" >-0.042518</td>\n",
       "      <td id=\"T_3a98e_row6_col5\" class=\"data row6 col5\" >-0.025645</td>\n",
       "      <td id=\"T_3a98e_row6_col6\" class=\"data row6 col6\" >1.000000</td>\n",
       "      <td id=\"T_3a98e_row6_col7\" class=\"data row6 col7\" >0.784053</td>\n",
       "      <td id=\"T_3a98e_row6_col8\" class=\"data row6 col8\" >0.233904</td>\n",
       "      <td id=\"T_3a98e_row6_col9\" class=\"data row6 col9\" >0.035008</td>\n",
       "    </tr>\n",
       "    <tr>\n",
       "      <th id=\"T_3a98e_level0_row7\" class=\"row_heading level0 row7\" >albumin</th>\n",
       "      <td id=\"T_3a98e_row7_col0\" class=\"data row7 col0\" >-0.265924</td>\n",
       "      <td id=\"T_3a98e_row7_col1\" class=\"data row7 col1\" >-0.222250</td>\n",
       "      <td id=\"T_3a98e_row7_col2\" class=\"data row7 col2\" >-0.228531</td>\n",
       "      <td id=\"T_3a98e_row7_col3\" class=\"data row7 col3\" >-0.165453</td>\n",
       "      <td id=\"T_3a98e_row7_col4\" class=\"data row7 col4\" >-0.029742</td>\n",
       "      <td id=\"T_3a98e_row7_col5\" class=\"data row7 col5\" >-0.085290</td>\n",
       "      <td id=\"T_3a98e_row7_col6\" class=\"data row7 col6\" >0.784053</td>\n",
       "      <td id=\"T_3a98e_row7_col7\" class=\"data row7 col7\" >1.000000</td>\n",
       "      <td id=\"T_3a98e_row7_col8\" class=\"data row7 col8\" >0.686322</td>\n",
       "      <td id=\"T_3a98e_row7_col9\" class=\"data row7 col9\" >0.161388</td>\n",
       "    </tr>\n",
       "    <tr>\n",
       "      <th id=\"T_3a98e_level0_row8\" class=\"row_heading level0 row8\" >albumin_and_globulin_ratio</th>\n",
       "      <td id=\"T_3a98e_row8_col0\" class=\"data row8 col0\" >-0.216089</td>\n",
       "      <td id=\"T_3a98e_row8_col1\" class=\"data row8 col1\" >-0.206159</td>\n",
       "      <td id=\"T_3a98e_row8_col2\" class=\"data row8 col2\" >-0.200004</td>\n",
       "      <td id=\"T_3a98e_row8_col3\" class=\"data row8 col3\" >-0.233960</td>\n",
       "      <td id=\"T_3a98e_row8_col4\" class=\"data row8 col4\" >-0.002374</td>\n",
       "      <td id=\"T_3a98e_row8_col5\" class=\"data row8 col5\" >-0.070024</td>\n",
       "      <td id=\"T_3a98e_row8_col6\" class=\"data row8 col6\" >0.233904</td>\n",
       "      <td id=\"T_3a98e_row8_col7\" class=\"data row8 col7\" >0.686322</td>\n",
       "      <td id=\"T_3a98e_row8_col8\" class=\"data row8 col8\" >1.000000</td>\n",
       "      <td id=\"T_3a98e_row8_col9\" class=\"data row8 col9\" >0.162319</td>\n",
       "    </tr>\n",
       "    <tr>\n",
       "      <th id=\"T_3a98e_level0_row9\" class=\"row_heading level0 row9\" >dataset</th>\n",
       "      <td id=\"T_3a98e_row9_col0\" class=\"data row9 col0\" >-0.137351</td>\n",
       "      <td id=\"T_3a98e_row9_col1\" class=\"data row9 col1\" >-0.220208</td>\n",
       "      <td id=\"T_3a98e_row9_col2\" class=\"data row9 col2\" >-0.246046</td>\n",
       "      <td id=\"T_3a98e_row9_col3\" class=\"data row9 col3\" >-0.184866</td>\n",
       "      <td id=\"T_3a98e_row9_col4\" class=\"data row9 col4\" >-0.163416</td>\n",
       "      <td id=\"T_3a98e_row9_col5\" class=\"data row9 col5\" >-0.151934</td>\n",
       "      <td id=\"T_3a98e_row9_col6\" class=\"data row9 col6\" >0.035008</td>\n",
       "      <td id=\"T_3a98e_row9_col7\" class=\"data row9 col7\" >0.161388</td>\n",
       "      <td id=\"T_3a98e_row9_col8\" class=\"data row9 col8\" >0.162319</td>\n",
       "      <td id=\"T_3a98e_row9_col9\" class=\"data row9 col9\" >1.000000</td>\n",
       "    </tr>\n",
       "  </tbody>\n",
       "</table>\n"
      ],
      "text/plain": [
       "<pandas.io.formats.style.Styler at 0x7f6148418dc0>"
      ]
     },
     "execution_count": 12,
     "metadata": {},
     "output_type": "execute_result"
    }
   ],
   "source": [
    "# full correlation table\n",
    "df.corr().style.background_gradient(cmap='viridis')"
   ]
  },
  {
   "cell_type": "markdown",
   "metadata": {
    "id": "8r2i_qDL2EX7",
    "papermill": {
     "duration": 0.07064,
     "end_time": "2020-11-09T06:57:43.353574",
     "exception": false,
     "start_time": "2020-11-09T06:57:43.282934",
     "status": "completed"
    },
    "tags": []
   },
   "source": [
    "**Outcome?** I've seen in many datasets there is none. Data scientist just simply show correlation and skip any actions to be done... not in this case! \n",
    "We have strong correlation between some variables:\n",
    "- direct_bilirubin & total_bilirubin\n",
    "- aspartate_aminotransferase & alamine_aminotransferase\n",
    "- total_protiens & albumin\n",
    "- albumin_and_globulin_ratio & albumin\n",
    "\n",
    "We will drop some of them as features should be independent"
   ]
  },
  {
   "cell_type": "code",
   "execution_count": 13,
   "metadata": {
    "id": "S8bpwPkt2EX7",
    "papermill": {
     "duration": 0.082524,
     "end_time": "2020-11-09T06:57:43.506985",
     "exception": false,
     "start_time": "2020-11-09T06:57:43.424461",
     "status": "completed"
    },
    "tags": []
   },
   "outputs": [],
   "source": [
    "# this is simply my selection (from highly correlated features, you could also use different from pairs)\n",
    "df.drop(['direct_bilirubin', 'aspartate_aminotransferase', 'total_protiens', 'albumin'], axis=1, inplace=True)"
   ]
  },
  {
   "cell_type": "markdown",
   "metadata": {
    "id": "mz5yB47T2EX7",
    "papermill": {
     "duration": 0.070605,
     "end_time": "2020-11-09T06:57:43.648950",
     "exception": false,
     "start_time": "2020-11-09T06:57:43.578345",
     "status": "completed"
    },
    "tags": []
   },
   "source": [
    "### Outliers & transformation\n",
    "Now check data using boxplot and distplot to see what features are skewed, what is ratio of outliers, if log1p helps etc"
   ]
  },
  {
   "cell_type": "code",
   "execution_count": 14,
   "metadata": {
    "colab": {
     "base_uri": "https://localhost:8080/",
     "height": 750
    },
    "id": "Uuqf_PEW2EX7",
    "outputId": "9b8b14f2-2db0-4135-e139-e8a24620237f",
    "papermill": {
     "duration": 6.795434,
     "end_time": "2020-11-09T06:57:50.515278",
     "exception": false,
     "start_time": "2020-11-09T06:57:43.719844",
     "status": "completed"
    },
    "tags": []
   },
   "outputs": [
    {
     "data": {
      "image/png": "[encoded data removed]",
      "text/plain": [
       "<Figure size 1080x1440 with 10 Axes>"
      ]
     },
     "metadata": {
      "needs_background": "light"
     },
     "output_type": "display_data"
    }
   ],
   "source": [
    "# outlier check\n",
    "plt.figure(figsize=(15, 20))\n",
    "\n",
    "for i, c in enumerate(df.drop('dataset', axis=1).select_dtypes(include='number').columns):\n",
    "    plt.subplot(10,2,i*2+1)\n",
    "    sns.boxplot(df[c], color='blue')\n",
    "    plt.title('Distribution plot for field:' + c)\n",
    "    plt.xlabel('')\n",
    "    plt.tight_layout(pad=0.4, w_pad=0.5, h_pad=1.0)\n",
    "\n",
    "    \n",
    "    plt.subplot(10,2,i*2+2)\n",
    "    sns.boxplot(df[c].apply('log1p'), color='red')\n",
    "    plt.title('Log1p distribution plot for field:' + c)\n",
    "    plt.xlabel('')\n",
    "    plt.tight_layout(pad=0.4, w_pad=0.5, h_pad=1.0)"
   ]
  },
  {
   "cell_type": "code",
   "execution_count": 15,
   "metadata": {
    "colab": {
     "base_uri": "https://localhost:8080/",
     "height": 551
    },
    "id": "_G7-_Pj_2EX8",
    "outputId": "e820d130-3024-4f25-ccd1-678714275603",
    "papermill": {
     "duration": 4.305694,
     "end_time": "2020-11-09T06:57:54.893208",
     "exception": false,
     "start_time": "2020-11-09T06:57:50.587514",
     "status": "completed"
    },
    "tags": []
   },
   "outputs": [
    {
     "data": {
      "image/png": "[encoded data removed]",
      "text/plain": [
       "<Figure size 1080x864 with 6 Axes>"
      ]
     },
     "metadata": {
      "needs_background": "light"
     },
     "output_type": "display_data"
    }
   ],
   "source": [
    "plt.figure(figsize=(15, 12))\n",
    "\n",
    "for i, c in enumerate(df.select_dtypes(include='number').columns):\n",
    "    plt.subplot(5,2,i+1)\n",
    "    sns.distplot(df[c])\n",
    "    plt.title('Distribution plot for field:' + c)\n",
    "    plt.xlabel('')\n",
    "    plt.tight_layout(pad=0.4, w_pad=0.5, h_pad=1.0)\n"
   ]
  },
  {
   "cell_type": "markdown",
   "metadata": {
    "id": "m7FHzsjs2EX8",
    "papermill": {
     "duration": 0.075535,
     "end_time": "2020-11-09T06:57:55.043890",
     "exception": false,
     "start_time": "2020-11-09T06:57:54.968355",
     "status": "completed"
    },
    "tags": []
   },
   "source": [
    "#### What can we get out of dist plot and box plot?\n",
    "- dataset is slightly imbalanced\n",
    "- slightly skewed features: albumin_and_globulin_ration\n",
    "- strongly skewed features: total_bilirubin, direct_bilirubin, alkaline_phosphotase, alamine_aminotransferase, aspartate_aminotransferase\n",
    "\n",
    "We will fix these values using log1p transformation and then scale variables using RobustScaler as this one is good for data with outliers. If you think this is not good procedure, let me know!"
   ]
  },
  {
   "cell_type": "code",
   "execution_count": 16,
   "metadata": {
    "id": "bzOvymbk2EX8",
    "papermill": {
     "duration": 0.084506,
     "end_time": "2020-11-09T06:57:55.203573",
     "exception": false,
     "start_time": "2020-11-09T06:57:55.119067",
     "status": "completed"
    },
    "tags": []
   },
   "outputs": [],
   "source": [
    "# save skewed features\n",
    "skewed_cols = ['albumin_and_globulin_ratio','total_bilirubin', 'alkaline_phosphotase', 'alamine_aminotransferase']"
   ]
  },
  {
   "cell_type": "code",
   "execution_count": 17,
   "metadata": {
    "id": "54F0tncz2EX8",
    "papermill": {
     "duration": 0.087431,
     "end_time": "2020-11-09T06:57:55.366130",
     "exception": false,
     "start_time": "2020-11-09T06:57:55.278699",
     "status": "completed"
    },
    "tags": []
   },
   "outputs": [],
   "source": [
    "# Apply log1p transformation on dataframe - just selected values\n",
    "for c in skewed_cols:\n",
    "    df[c] = df[c].apply('log1p')"
   ]
  },
  {
   "cell_type": "code",
   "execution_count": 18,
   "metadata": {
    "colab": {
     "base_uri": "https://localhost:8080/",
     "height": 374
    },
    "id": "m86q1mye2EX8",
    "outputId": "86e032be-652f-4129-bae9-00156df116f2",
    "papermill": {
     "duration": 2.845895,
     "end_time": "2020-11-09T06:57:58.287208",
     "exception": false,
     "start_time": "2020-11-09T06:57:55.441313",
     "status": "completed"
    },
    "tags": []
   },
   "outputs": [
    {
     "data": {
      "image/png": "[encoded data removed]",
      "text/plain": [
       "<Figure size 1080x864 with 4 Axes>"
      ]
     },
     "metadata": {
      "needs_background": "light"
     },
     "output_type": "display_data"
    }
   ],
   "source": [
    "# Next check & fix strongly skewed features\n",
    "# apply log1p transform\n",
    "plt.figure(figsize=(15, 12))\n",
    "\n",
    "for i, c in enumerate(skewed_cols):\n",
    "    plt.subplot(5,2,i+1)\n",
    "    sns.distplot(df[c].apply(np.log1p))\n",
    "    plt.title('Distribution plot for field:' + c)\n",
    "    plt.xlabel('')\n",
    "    plt.tight_layout(pad=0.4, w_pad=0.5, h_pad=1.0)"
   ]
  },
  {
   "cell_type": "markdown",
   "metadata": {
    "id": "LxOZydsl2EX8",
    "papermill": {
     "duration": 0.075807,
     "end_time": "2020-11-09T06:57:58.439573",
     "exception": false,
     "start_time": "2020-11-09T06:57:58.363766",
     "status": "completed"
    },
    "tags": []
   },
   "source": [
    "## Encode & Scale\n",
    "I will use sklearn library to encode gender and scale numerical variables"
   ]
  },
  {
   "cell_type": "code",
   "execution_count": 19,
   "metadata": {
    "id": "tSStyfXC2EX8",
    "papermill": {
     "duration": 0.162474,
     "end_time": "2020-11-09T06:57:58.679268",
     "exception": false,
     "start_time": "2020-11-09T06:57:58.516794",
     "status": "completed"
    },
    "tags": []
   },
   "outputs": [],
   "source": [
    "from sklearn.preprocessing import LabelEncoder, RobustScaler"
   ]
  },
  {
   "cell_type": "code",
   "execution_count": 20,
   "metadata": {
    "colab": {
     "base_uri": "https://localhost:8080/"
    },
    "id": "aLl7FBgF2EX9",
    "outputId": "81272563-f0ab-48f8-bdef-979440fbd9ac",
    "papermill": {
     "duration": 0.108837,
     "end_time": "2020-11-09T06:57:58.890538",
     "exception": false,
     "start_time": "2020-11-09T06:57:58.781701",
     "status": "completed"
    },
    "tags": []
   },
   "outputs": [
    {
     "data": {
      "text/plain": [
       "0    0\n",
       "1    1\n",
       "2    1\n",
       "3    1\n",
       "4    1\n",
       "Name: gender, dtype: int64"
      ]
     },
     "execution_count": 20,
     "metadata": {},
     "output_type": "execute_result"
    }
   ],
   "source": [
    "# gender contains string values Male, Female; these will be converted into 0, 1, as ML algorithms like just numerical values\n",
    "le = LabelEncoder()\n",
    "df['gender'] = le.fit_transform(df['gender'])\n",
    "df.gender.head()"
   ]
  },
  {
   "cell_type": "code",
   "execution_count": 21,
   "metadata": {
    "id": "5mLcjdao2EX9",
    "papermill": {
     "duration": 0.11954,
     "end_time": "2020-11-09T06:57:59.121581",
     "exception": false,
     "start_time": "2020-11-09T06:57:59.002041",
     "status": "completed"
    },
    "tags": []
   },
   "outputs": [],
   "source": [
    "# rs = RobustScaler()\n",
    "# for c in df[['age', 'gender', 'total_bilirubin', 'alkaline_phosphotase', 'alamine_aminotransferase', 'albumin_and_globulin_ratio']].columns:\n",
    "#     df[c] = rs.fit_transform(df[c].values.reshape(-1, 1))\n",
    "# df.head()"
   ]
  },
  {
   "cell_type": "markdown",
   "metadata": {
    "id": "reagO7__2EX9",
    "papermill": {
     "duration": 0.084114,
     "end_time": "2020-11-09T06:57:59.285275",
     "exception": false,
     "start_time": "2020-11-09T06:57:59.201161",
     "status": "completed"
    },
    "tags": []
   },
   "source": [
    "## Balance data\n",
    "As our dataset is imbalanced, will use sklearn's sample to have same ratio of target variables (we could use also SMOTE from imblearn).\n",
    "This may not be needed each time as some algorithms already have techniques for imbalanced datasets"
   ]
  },
  {
   "cell_type": "code",
   "execution_count": 22,
   "metadata": {
    "colab": {
     "base_uri": "https://localhost:8080/"
    },
    "id": "h6gU441w2EX9",
    "outputId": "03cafda6-b29f-4a93-e21f-b4ec4429187e",
    "papermill": {
     "duration": 0.091675,
     "end_time": "2020-11-09T06:57:59.454988",
     "exception": false,
     "start_time": "2020-11-09T06:57:59.363313",
     "status": "completed"
    },
    "tags": []
   },
   "outputs": [
    {
     "data": {
      "text/plain": [
       "1    416\n",
       "2    167\n",
       "Name: dataset, dtype: int64"
      ]
     },
     "execution_count": 22,
     "metadata": {},
     "output_type": "execute_result"
    }
   ],
   "source": [
    "from sklearn.utils import resample\n",
    "df.dataset.value_counts()"
   ]
  },
  {
   "cell_type": "code",
   "execution_count": 23,
   "metadata": {
    "colab": {
     "base_uri": "https://localhost:8080/"
    },
    "id": "o2zQuDYp2EX9",
    "outputId": "7107611f-57ff-453f-adb6-1dd00f441556",
    "papermill": {
     "duration": 0.093035,
     "end_time": "2020-11-09T06:57:59.631045",
     "exception": false,
     "start_time": "2020-11-09T06:57:59.538010",
     "status": "completed"
    },
    "tags": []
   },
   "outputs": [
    {
     "name": "stdout",
     "output_type": "stream",
     "text": [
      "Minority size: (167, 7)\n",
      "Majority size: (416, 7)\n"
     ]
    }
   ],
   "source": [
    "# Split data on majority and minority.. minority is dataset == 2\n",
    "minority = df[df.dataset==2]\n",
    "majority = df[df.dataset==1]\n",
    "\n",
    "print('Minority size:', minority.shape)\n",
    "print('Majority size:', majority.shape)"
   ]
  },
  {
   "cell_type": "code",
   "execution_count": 24,
   "metadata": {
    "colab": {
     "base_uri": "https://localhost:8080/"
    },
    "id": "bJ_SH-vt2EX9",
    "outputId": "27801f72-ffb9-4ba1-aca1-70abf6df9bd8",
    "papermill": {
     "duration": 0.091534,
     "end_time": "2020-11-09T06:57:59.802375",
     "exception": false,
     "start_time": "2020-11-09T06:57:59.710841",
     "status": "completed"
    },
    "tags": []
   },
   "outputs": [
    {
     "name": "stdout",
     "output_type": "stream",
     "text": [
      "Minority upsampled size: (416, 7)\n"
     ]
    }
   ],
   "source": [
    "# choosing upsample as even now we do not have too much data\n",
    "minority_upsample = resample(minority, replace=True, n_samples=majority.shape[0])\n",
    "print('Minority upsampled size:', minority_upsample.shape)"
   ]
  },
  {
   "cell_type": "code",
   "execution_count": 25,
   "metadata": {
    "id": "-A4tnNXG2EX9",
    "papermill": {
     "duration": 0.089993,
     "end_time": "2020-11-09T06:57:59.971264",
     "exception": false,
     "start_time": "2020-11-09T06:57:59.881271",
     "status": "completed"
    },
    "tags": []
   },
   "outputs": [],
   "source": [
    "# merge majority with upsampled minority\n",
    "df = pd.concat([minority_upsample, majority], axis=0)"
   ]
  },
  {
   "cell_type": "markdown",
   "metadata": {
    "id": "IaZwR_m12EX9",
    "papermill": {
     "duration": 0.078316,
     "end_time": "2020-11-09T06:58:00.129009",
     "exception": false,
     "start_time": "2020-11-09T06:58:00.050693",
     "status": "completed"
    },
    "tags": []
   },
   "source": [
    "## Split data for modeling\n",
    "This is very needed in order to be able to compare performance of model on unseen data. I will choose test size to be 0.25. Dataset is also split to X (features) and y (target) variables."
   ]
  },
  {
   "cell_type": "code",
   "execution_count": 26,
   "metadata": {
    "colab": {
     "base_uri": "https://localhost:8080/"
    },
    "id": "6PPR8UCx2EX9",
    "outputId": "e0c49c39-86be-4520-ecaf-0ba5beeac6ef",
    "papermill": {
     "duration": 0.150723,
     "end_time": "2020-11-09T06:58:00.359026",
     "exception": false,
     "start_time": "2020-11-09T06:58:00.208303",
     "status": "completed"
    },
    "tags": []
   },
   "outputs": [
    {
     "name": "stdout",
     "output_type": "stream",
     "text": [
      "Train values shape: (624, 6)\n",
      "Test values shape: (208, 6)\n",
      "Train target shape: (624,)\n",
      "Test target shape: (208,)\n"
     ]
    }
   ],
   "source": [
    "from sklearn.model_selection import train_test_split\n",
    "X = (df.drop('dataset', axis=1)).values\n",
    "y = (df['dataset'] - 1 ).values\n",
    "X_train, X_test, y_train, y_test = train_test_split(X, y, test_size=0.25, random_state=123)\n",
    "\n",
    "print('Train values shape:', X_train.shape)\n",
    "print('Test values shape:', X_test.shape)\n",
    "print('Train target shape:', y_train.shape)\n",
    "print('Test target shape:', y_test.shape)"
   ]
  },
  {
   "cell_type": "markdown",
   "metadata": {
    "id": "THlJIhAR2EX9",
    "papermill": {
     "duration": 0.078807,
     "end_time": "2020-11-09T06:58:00.518670",
     "exception": false,
     "start_time": "2020-11-09T06:58:00.439863",
     "status": "completed"
    },
    "tags": []
   },
   "source": [
    "## Model selection\n",
    "We will use several popular models and see how they perform on our dataset.\n",
    "At the end we choose 3 best performing models and will merge them together."
   ]
  },
  {
   "cell_type": "code",
   "execution_count": 27,
   "metadata": {
    "id": "kO6Myiqf2EX9",
    "papermill": {
     "duration": 0.318447,
     "end_time": "2020-11-09T06:58:00.916443",
     "exception": false,
     "start_time": "2020-11-09T06:58:00.597996",
     "status": "completed"
    },
    "tags": []
   },
   "outputs": [],
   "source": [
    "from sklearn.linear_model import LogisticRegression\n",
    "from sklearn.neural_network import MLPClassifier\n",
    "from sklearn.neighbors import KNeighborsClassifier\n",
    "from sklearn.svm import SVC\n",
    "from sklearn.ensemble import RandomForestClassifier\n",
    "\n",
    "from sklearn.metrics import classification_report, confusion_matrix, roc_auc_score"
   ]
  },
  {
   "cell_type": "code",
   "execution_count": 28,
   "metadata": {
    "colab": {
     "base_uri": "https://localhost:8080/"
    },
    "id": "n6qsiUWh2EX9",
    "outputId": "8fdc7429-3600-4e1f-81fa-6fdf1eefffb5",
    "papermill": {
     "duration": 0.125359,
     "end_time": "2020-11-09T06:58:01.121517",
     "exception": false,
     "start_time": "2020-11-09T06:58:00.996158",
     "status": "completed"
    },
    "tags": []
   },
   "outputs": [
    {
     "name": "stdout",
     "output_type": "stream",
     "text": [
      "LogisticRegression()\n",
      "Train performance\n",
      "-------------------------------------------------------\n",
      "              precision    recall  f1-score   support\n",
      "\n",
      "           0       0.79      0.66      0.72       313\n",
      "           1       0.71      0.83      0.76       311\n",
      "\n",
      "    accuracy                           0.74       624\n",
      "   macro avg       0.75      0.74      0.74       624\n",
      "weighted avg       0.75      0.74      0.74       624\n",
      "\n",
      "Test performance\n",
      "-------------------------------------------------------\n",
      "              precision    recall  f1-score   support\n",
      "\n",
      "           0       0.69      0.47      0.55       103\n",
      "           1       0.60      0.79      0.68       105\n",
      "\n",
      "    accuracy                           0.63       208\n",
      "   macro avg       0.64      0.63      0.62       208\n",
      "weighted avg       0.64      0.63      0.62       208\n",
      "\n",
      "Roc_auc score\n",
      "-------------------------------------------------------\n",
      "0.6282478039759594\n",
      "\n",
      "Confusion matrix\n",
      "-------------------------------------------------------\n",
      "[[48 55]\n",
      " [22 83]]\n"
     ]
    }
   ],
   "source": [
    "# Logistic Regression\n",
    "model = LogisticRegression()\n",
    "model.fit(X_train, y_train)\n",
    "y_train_hat = model.predict(X_train)\n",
    "y_test_hat = model.predict(X_test)\n",
    "\n",
    "print(model)\n",
    "print('Train performance')\n",
    "print('-------------------------------------------------------')\n",
    "print(classification_report(y_train, y_train_hat))\n",
    "\n",
    "print('Test performance')\n",
    "print('-------------------------------------------------------')\n",
    "print(classification_report(y_test, y_test_hat))\n",
    "\n",
    "print('Roc_auc score')\n",
    "print('-------------------------------------------------------')\n",
    "print(roc_auc_score(y_test, y_test_hat))\n",
    "print('')\n",
    "\n",
    "print('Confusion matrix')\n",
    "print('-------------------------------------------------------')\n",
    "print(confusion_matrix(y_test, y_test_hat))\n"
   ]
  },
  {
   "cell_type": "markdown",
   "metadata": {
    "id": "92OZOj4f2EX-",
    "papermill": {
     "duration": 0.079145,
     "end_time": "2020-11-09T06:58:01.284804",
     "exception": false,
     "start_time": "2020-11-09T06:58:01.205659",
     "status": "completed"
    },
    "tags": []
   },
   "source": [
    "Ok, Logistic Regression worked fine, nothing special, but still 0.62 f1 score on test dataset is pretty well, model also does not overfit. But we want better score, let's try now SVM that should work well on low dimension data"
   ]
  },
  {
   "cell_type": "code",
   "execution_count": 29,
   "metadata": {
    "colab": {
     "base_uri": "https://localhost:8080/"
    },
    "id": "DNyj6tYp2EX-",
    "outputId": "9d059231-4198-48ef-883a-5abc2d17e8f1",
    "papermill": {
     "duration": 0.140511,
     "end_time": "2020-11-09T06:58:01.505111",
     "exception": false,
     "start_time": "2020-11-09T06:58:01.364600",
     "status": "completed"
    },
    "tags": []
   },
   "outputs": [
    {
     "name": "stdout",
     "output_type": "stream",
     "text": [
      "SVC()\n",
      "Train performance\n",
      "-------------------------------------------------------\n",
      "              precision    recall  f1-score   support\n",
      "\n",
      "           0       0.61      0.68      0.64       313\n",
      "           1       0.63      0.55      0.59       311\n",
      "\n",
      "    accuracy                           0.62       624\n",
      "   macro avg       0.62      0.62      0.62       624\n",
      "weighted avg       0.62      0.62      0.62       624\n",
      "\n",
      "Test performance\n",
      "-------------------------------------------------------\n",
      "              precision    recall  f1-score   support\n",
      "\n",
      "           0       0.57      0.61      0.59       103\n",
      "           1       0.59      0.55      0.57       105\n",
      "\n",
      "    accuracy                           0.58       208\n",
      "   macro avg       0.58      0.58      0.58       208\n",
      "weighted avg       0.58      0.58      0.58       208\n",
      "\n",
      "Roc_auc score\n",
      "-------------------------------------------------------\n",
      "0.5820157189089228\n",
      "\n",
      "Confusion matrix\n",
      "-------------------------------------------------------\n",
      "[[63 40]\n",
      " [47 58]]\n"
     ]
    }
   ],
   "source": [
    "# Support Vector Machines\n",
    "model = SVC()\n",
    "model.fit(X_train, y_train)\n",
    "y_train_hat = model.predict(X_train)\n",
    "y_test_hat = model.predict(X_test)\n",
    "\n",
    "print(model)\n",
    "print('Train performance')\n",
    "print('-------------------------------------------------------')\n",
    "print(classification_report(y_train, y_train_hat))\n",
    "\n",
    "print('Test performance')\n",
    "print('-------------------------------------------------------')\n",
    "print(classification_report(y_test, y_test_hat))\n",
    "\n",
    "print('Roc_auc score')\n",
    "print('-------------------------------------------------------')\n",
    "print(roc_auc_score(y_test, y_test_hat))\n",
    "print('')\n",
    "\n",
    "print('Confusion matrix')\n",
    "print('-------------------------------------------------------')\n",
    "print(confusion_matrix(y_test, y_test_hat))\n"
   ]
  },
  {
   "cell_type": "markdown",
   "metadata": {
    "id": "oByne1mY2EX-",
    "papermill": {
     "duration": 0.080419,
     "end_time": "2020-11-09T06:58:01.665967",
     "exception": false,
     "start_time": "2020-11-09T06:58:01.585548",
     "status": "completed"
    },
    "tags": []
   },
   "source": [
    "OK, f1 increased to 0.64, model is not overtrained, even roc_auc is higher so our model is able to do classification better, SVM works fine.... but it's pretty much same as logistic regression, isn't it!? Let's try famous random forest classifier."
   ]
  },
  {
   "cell_type": "code",
   "execution_count": 30,
   "metadata": {
    "colab": {
     "base_uri": "https://localhost:8080/"
    },
    "id": "ZS2htkac2EX-",
    "outputId": "cac5fe0b-78f9-481b-9928-68dcbd620256",
    "papermill": {
     "duration": 0.707756,
     "end_time": "2020-11-09T06:58:02.454516",
     "exception": false,
     "start_time": "2020-11-09T06:58:01.746760",
     "status": "completed"
    },
    "tags": []
   },
   "outputs": [
    {
     "name": "stdout",
     "output_type": "stream",
     "text": [
      "RandomForestClassifier(n_jobs=-1, random_state=123)\n",
      "Train performance\n",
      "-------------------------------------------------------\n",
      "              precision    recall  f1-score   support\n",
      "\n",
      "           0       1.00      1.00      1.00       313\n",
      "           1       1.00      1.00      1.00       311\n",
      "\n",
      "    accuracy                           1.00       624\n",
      "   macro avg       1.00      1.00      1.00       624\n",
      "weighted avg       1.00      1.00      1.00       624\n",
      "\n",
      "Test performance\n",
      "-------------------------------------------------------\n",
      "              precision    recall  f1-score   support\n",
      "\n",
      "           0       0.89      0.72      0.80       103\n",
      "           1       0.77      0.91      0.83       105\n",
      "\n",
      "    accuracy                           0.82       208\n",
      "   macro avg       0.83      0.82      0.82       208\n",
      "weighted avg       0.83      0.82      0.82       208\n",
      "\n",
      "Roc_auc score\n",
      "-------------------------------------------------------\n",
      "0.8163661581137309\n",
      "\n",
      "Confusion matrix\n",
      "-------------------------------------------------------\n",
      "[[74 29]\n",
      " [ 9 96]]\n"
     ]
    }
   ],
   "source": [
    "# Random Forest\n",
    "model = RandomForestClassifier(n_jobs=-1,random_state=123)\n",
    "model.fit(X_train, y_train)\n",
    "y_train_hat = model.predict(X_train)\n",
    "y_test_hat = model.predict(X_test)\n",
    "\n",
    "print(model)\n",
    "print('Train performance')\n",
    "print('-------------------------------------------------------')\n",
    "print(classification_report(y_train, y_train_hat))\n",
    "\n",
    "print('Test performance')\n",
    "print('-------------------------------------------------------')\n",
    "print(classification_report(y_test, y_test_hat))\n",
    "\n",
    "print('Roc_auc score')\n",
    "print('-------------------------------------------------------')\n",
    "print(roc_auc_score(y_test, y_test_hat))\n",
    "print('')\n",
    "\n",
    "print('Confusion matrix')\n",
    "print('-------------------------------------------------------')\n",
    "print(confusion_matrix(y_test, y_test_hat))\n"
   ]
  },
  {
   "cell_type": "markdown",
   "metadata": {
    "id": "Lic2ETni2EX-",
    "papermill": {
     "duration": 0.079819,
     "end_time": "2020-11-09T06:58:02.614938",
     "exception": false,
     "start_time": "2020-11-09T06:58:02.535119",
     "status": "completed"
    },
    "tags": []
   },
   "source": [
    "Hell yeah! That's why it's so famous, got 0.84 f1 on test dataset, roc_auc reaching 0.85, all looks great just on fact model is overfitting training data... however, still generalize fine on test data."
   ]
  },
  {
   "cell_type": "code",
   "execution_count": 31,
   "metadata": {
    "colab": {
     "base_uri": "https://localhost:8080/"
    },
    "id": "MwB-fn1l2EX-",
    "outputId": "7e7c9b82-dfd3-47b6-eda8-ad1d97657314",
    "papermill": {
     "duration": 1.054192,
     "end_time": "2020-11-09T06:58:03.749749",
     "exception": false,
     "start_time": "2020-11-09T06:58:02.695557",
     "status": "completed"
    },
    "tags": []
   },
   "outputs": [
    {
     "name": "stdout",
     "output_type": "stream",
     "text": [
      "MLPClassifier()\n",
      "Train performance\n",
      "-------------------------------------------------------\n",
      "              precision    recall  f1-score   support\n",
      "\n",
      "           0       0.79      0.59      0.68       313\n",
      "           1       0.67      0.84      0.75       311\n",
      "\n",
      "    accuracy                           0.72       624\n",
      "   macro avg       0.73      0.72      0.71       624\n",
      "weighted avg       0.73      0.72      0.71       624\n",
      "\n",
      "Test performance\n",
      "-------------------------------------------------------\n",
      "              precision    recall  f1-score   support\n",
      "\n",
      "           0       0.70      0.43      0.53       103\n",
      "           1       0.59      0.82      0.69       105\n",
      "\n",
      "    accuracy                           0.62       208\n",
      "   macro avg       0.65      0.62      0.61       208\n",
      "weighted avg       0.65      0.62      0.61       208\n",
      "\n",
      "Roc_auc score\n",
      "-------------------------------------------------------\n",
      "0.6231160425335183\n",
      "\n",
      "Confusion matrix\n",
      "-------------------------------------------------------\n",
      "[[44 59]\n",
      " [19 86]]\n"
     ]
    }
   ],
   "source": [
    "# Neural nets\n",
    "model = MLPClassifier()\n",
    "model.fit(X_train, y_train)\n",
    "y_train_hat = model.predict(X_train)\n",
    "y_test_hat = model.predict(X_test)\n",
    "\n",
    "print(model)\n",
    "print('Train performance')\n",
    "print('-------------------------------------------------------')\n",
    "print(classification_report(y_train, y_train_hat))\n",
    "\n",
    "print('Test performance')\n",
    "print('-------------------------------------------------------')\n",
    "print(classification_report(y_test, y_test_hat))\n",
    "\n",
    "print('Roc_auc score')\n",
    "print('-------------------------------------------------------')\n",
    "print(roc_auc_score(y_test, y_test_hat))\n",
    "print('')\n",
    "\n",
    "print('Confusion matrix')\n",
    "print('-------------------------------------------------------')\n",
    "print(confusion_matrix(y_test, y_test_hat))\n"
   ]
  },
  {
   "cell_type": "markdown",
   "metadata": {
    "id": "4zxILtDd2EX-",
    "papermill": {
     "duration": 0.090109,
     "end_time": "2020-11-09T06:58:03.969258",
     "exception": false,
     "start_time": "2020-11-09T06:58:03.879149",
     "status": "completed"
    },
    "tags": []
   },
   "source": [
    "Not so good as random forest"
   ]
  },
  {
   "cell_type": "code",
   "execution_count": 32,
   "metadata": {
    "colab": {
     "base_uri": "https://localhost:8080/"
    },
    "id": "-vlio1UH2EX-",
    "outputId": "83be28d5-1c04-4f7a-c008-c4009c074b16",
    "papermill": {
     "duration": 0.168063,
     "end_time": "2020-11-09T06:58:04.219704",
     "exception": false,
     "start_time": "2020-11-09T06:58:04.051641",
     "status": "completed"
    },
    "tags": []
   },
   "outputs": [
    {
     "name": "stdout",
     "output_type": "stream",
     "text": [
      "KNeighborsClassifier()\n",
      "Train performance\n",
      "-------------------------------------------------------\n",
      "              precision    recall  f1-score   support\n",
      "\n",
      "           0       0.90      0.75      0.82       313\n",
      "           1       0.79      0.92      0.85       311\n",
      "\n",
      "    accuracy                           0.83       624\n",
      "   macro avg       0.84      0.84      0.83       624\n",
      "weighted avg       0.84      0.83      0.83       624\n",
      "\n",
      "Test performance\n",
      "-------------------------------------------------------\n",
      "              precision    recall  f1-score   support\n",
      "\n",
      "           0       0.70      0.54      0.61       103\n",
      "           1       0.63      0.77      0.70       105\n",
      "\n",
      "    accuracy                           0.66       208\n",
      "   macro avg       0.67      0.66      0.65       208\n",
      "weighted avg       0.67      0.66      0.65       208\n",
      "\n",
      "Roc_auc score\n",
      "-------------------------------------------------------\n",
      "0.6575589459084604\n",
      "\n",
      "Confusion matrix\n",
      "-------------------------------------------------------\n",
      "[[56 47]\n",
      " [24 81]]\n"
     ]
    }
   ],
   "source": [
    "# K-Neighbors\n",
    "model = KNeighborsClassifier()\n",
    "model.fit(X_train, y_train)\n",
    "y_train_hat = model.predict(X_train)\n",
    "y_test_hat = model.predict(X_test)\n",
    "print(model)\n",
    "print('Train performance')\n",
    "print('-------------------------------------------------------')\n",
    "print(classification_report(y_train, y_train_hat))\n",
    "\n",
    "print('Test performance')\n",
    "print('-------------------------------------------------------')\n",
    "print(classification_report(y_test, y_test_hat))\n",
    "\n",
    "print('Roc_auc score')\n",
    "print('-------------------------------------------------------')\n",
    "print(roc_auc_score(y_test, y_test_hat))\n",
    "print('')\n",
    "\n",
    "print('Confusion matrix')\n",
    "print('-------------------------------------------------------')\n",
    "print(confusion_matrix(y_test, y_test_hat))\n"
   ]
  },
  {
   "cell_type": "markdown",
   "metadata": {
    "id": "GvPPIzZy2EX-",
    "papermill": {
     "duration": 0.082626,
     "end_time": "2020-11-09T06:58:04.389584",
     "exception": false,
     "start_time": "2020-11-09T06:58:04.306958",
     "status": "completed"
    },
    "tags": []
   },
   "source": [
    "Also not so good"
   ]
  },
  {
   "cell_type": "markdown",
   "metadata": {
    "id": "RTPhgyQp2EX-",
    "papermill": {
     "duration": 0.081756,
     "end_time": "2020-11-09T06:58:04.554442",
     "exception": false,
     "start_time": "2020-11-09T06:58:04.472686",
     "status": "completed"
    },
    "tags": []
   },
   "source": [
    "... which one is most favorite machine learning model on Kaggle? XGBoost! ... let's try it, unfortunately it's not part of sklearn so must be installed separately (or is, but in slightly modified version)"
   ]
  },
  {
   "cell_type": "code",
   "execution_count": null,
   "metadata": {
    "colab": {
     "base_uri": "https://localhost:8080/"
    },
    "id": "A7EVd4C32EX_",
    "outputId": "9d1bbb86-e622-48de-8567-d80c53feea34",
    "papermill": {
     "duration": 1.061441,
     "end_time": "2020-11-09T06:58:05.698906",
     "exception": false,
     "start_time": "2020-11-09T06:58:04.637465",
     "status": "completed"
    },
    "tags": []
   },
   "outputs": [],
   "source": [
    "from xgboost import XGBClassifier\n",
    "\n",
    "model = XGBClassifier(random_state=123,eval_metric='logloss')\n",
    "model.fit(X_train, y_train)\n",
    "y_train_hat = model.predict(X_train)\n",
    "y_test_hat = model.predict(X_test)\n",
    "\n",
    "print(model)\n",
    "print('Train performance')\n",
    "print('-------------------------------------------------------')\n",
    "print(classification_report(y_train, y_train_hat))\n",
    "\n",
    "print('Test performance')\n",
    "print('-------------------------------------------------------')\n",
    "print(classification_report(y_test, y_test_hat))\n",
    "\n",
    "print('Roc_auc score')\n",
    "print('-------------------------------------------------------')\n",
    "print(roc_auc_score(y_test, y_test_hat))\n",
    "print('')\n",
    "\n",
    "print('Confusion matrix')\n",
    "print('-------------------------------------------------------')\n",
    "print(confusion_matrix(y_test, y_test_hat))\n"
   ]
  },
  {
   "cell_type": "markdown",
   "metadata": {
    "id": "B2CkE0V-2EX_",
    "papermill": {
     "duration": 0.092836,
     "end_time": "2020-11-09T06:58:05.894096",
     "exception": false,
     "start_time": "2020-11-09T06:58:05.801260",
     "status": "completed"
    },
    "tags": []
   },
   "source": [
    "Nice one, XGBoost is catching random forest in performance!"
   ]
  },
  {
   "cell_type": "code",
   "execution_count": 35,
   "metadata": {
    "colab": {
     "base_uri": "https://localhost:8080/"
    },
    "id": "WaeXGmnC2EX_",
    "outputId": "e81b196b-2718-4834-d58e-ac7418e45d0d",
    "papermill": {
     "duration": 0.339725,
     "end_time": "2020-11-09T06:58:06.317115",
     "exception": false,
     "start_time": "2020-11-09T06:58:05.977390",
     "status": "completed"
    },
    "tags": []
   },
   "outputs": [
    {
     "name": "stdout",
     "output_type": "stream",
     "text": [
      "ExtraTreesClassifier(random_state=123)\n",
      "Train performance\n",
      "-------------------------------------------------------\n",
      "              precision    recall  f1-score   support\n",
      "\n",
      "           0       1.00      1.00      1.00       313\n",
      "           1       1.00      1.00      1.00       311\n",
      "\n",
      "    accuracy                           1.00       624\n",
      "   macro avg       1.00      1.00      1.00       624\n",
      "weighted avg       1.00      1.00      1.00       624\n",
      "\n",
      "Test performance\n",
      "-------------------------------------------------------\n",
      "              precision    recall  f1-score   support\n",
      "\n",
      "           0       0.87      0.81      0.84       103\n",
      "           1       0.82      0.89      0.85       105\n",
      "\n",
      "    accuracy                           0.85       208\n",
      "   macro avg       0.85      0.85      0.85       208\n",
      "weighted avg       0.85      0.85      0.85       208\n",
      "\n",
      "Roc_auc score\n",
      "-------------------------------------------------------\n",
      "0.8457697642163661\n",
      "\n",
      "Confusion matrix\n",
      "-------------------------------------------------------\n",
      "[[83 20]\n",
      " [12 93]]\n"
     ]
    }
   ],
   "source": [
    "# Extra Trees\n",
    "from sklearn.ensemble import ExtraTreesClassifier\n",
    "\n",
    "model = ExtraTreesClassifier(random_state=123)\n",
    "model.fit(X_train, y_train)\n",
    "y_train_hat = model.predict(X_train)\n",
    "y_test_hat = model.predict(X_test)\n",
    "\n",
    "print(model)\n",
    "print('Train performance')\n",
    "print('-------------------------------------------------------')\n",
    "print(classification_report(y_train, y_train_hat))\n",
    "\n",
    "print('Test performance')\n",
    "print('-------------------------------------------------------')\n",
    "print(classification_report(y_test, y_test_hat))\n",
    "\n",
    "print('Roc_auc score')\n",
    "print('-------------------------------------------------------')\n",
    "print(roc_auc_score(y_test, y_test_hat))\n",
    "print('')\n",
    "\n",
    "print('Confusion matrix')\n",
    "print('-------------------------------------------------------')\n",
    "print(confusion_matrix(y_test, y_test_hat))\n"
   ]
  },
  {
   "cell_type": "markdown",
   "metadata": {
    "id": "-FRK8-em2EX_",
    "papermill": {
     "duration": 0.082235,
     "end_time": "2020-11-09T06:58:06.486089",
     "exception": false,
     "start_time": "2020-11-09T06:58:06.403854",
     "status": "completed"
    },
    "tags": []
   },
   "source": [
    "Incredible! Extra Trees has definitely best performance from all models we've tried:\n",
    "- 86% precission\n",
    "- 86% recall\n",
    "- 0.86 f1\n",
    "- 0.85 roc_auc"
   ]
  },
  {
   "cell_type": "markdown",
   "metadata": {
    "id": "muFyhJ3E2EX_",
    "papermill": {
     "duration": 0.08169,
     "end_time": "2020-11-09T06:58:06.650562",
     "exception": false,
     "start_time": "2020-11-09T06:58:06.568872",
     "status": "completed"
    },
    "tags": []
   },
   "source": [
    "## Model evaluation & optimization\n",
    "As our dataset is not too big, we will use GridSearchCV for parameter tuning, in case of large datasets RandomizedSearchCV could be better. Our main objective will be to improve roc_auc score and avoid overfitting"
   ]
  },
  {
   "cell_type": "code",
   "execution_count": 36,
   "metadata": {
    "id": "1lFmE86W2EX_",
    "papermill": {
     "duration": 0.091717,
     "end_time": "2020-11-09T06:58:06.824964",
     "exception": false,
     "start_time": "2020-11-09T06:58:06.733247",
     "status": "completed"
    },
    "tags": []
   },
   "outputs": [],
   "source": [
    "from sklearn.model_selection import GridSearchCV, KFold"
   ]
  },
  {
   "cell_type": "code",
   "execution_count": 37,
   "metadata": {
    "id": "HZQD8VXl2EX_",
    "papermill": {
     "duration": 381.180038,
     "end_time": "2020-11-09T07:04:28.087066",
     "exception": false,
     "start_time": "2020-11-09T06:58:06.907028",
     "status": "completed"
    },
    "tags": []
   },
   "outputs": [],
   "source": [
    "# # Random forest\n",
    "# # n_jobs=-1 to allow run it on all cores\n",
    "# params = {\n",
    "#     'n_estimators': [100, 200, 500],\n",
    "#     'criterion': ['gini', 'entropy'],\n",
    "#     'min_samples_split': [1,2,4,5],\n",
    "#     'min_samples_leaf': [1,2,4,5],\n",
    "#     'max_leaf_nodes': [4,10,20,50,None]\n",
    "# }\n",
    "\n",
    "# gs1 = GridSearchCV(RandomForestClassifier(), params, cv=KFold(n_splits=3), scoring='roc_auc')\n",
    "# gs1.fit(X_train, y_train)\n",
    "\n",
    "# print('Best score:', gs1.best_score_)\n",
    "# print('Best score:', gs1.best_params_)\n"
   ]
  },
  {
   "cell_type": "code",
   "execution_count": 38,
   "metadata": {
    "id": "JSst_ktJ2EX_",
    "papermill": {
     "duration": 100.645108,
     "end_time": "2020-11-09T07:06:08.816937",
     "exception": false,
     "start_time": "2020-11-09T07:04:28.171829",
     "status": "completed"
    },
    "tags": []
   },
   "outputs": [],
   "source": [
    "# # XGBoost\n",
    "# # n_jobs=-1 to allow run it on all cores\n",
    "# params = {\n",
    "#     'n_estimators': [100, 200, 500],\n",
    "#     'learning_rate': [0.01,0.05,0.1],\n",
    "#     'booster': ['gbtree', 'gblinear'],\n",
    "#     'gamma': [0, 0.5, 1],\n",
    "#     'reg_alpha': [0, 0.5, 1],\n",
    "#     'reg_lambda': [0.5, 1, 5],\n",
    "#     'base_score': [0.2, 0.5, 1]\n",
    "# }\n",
    "\n",
    "# gs2 = GridSearchCV(XGBClassifier(), params, cv=KFold(n_splits=3), scoring='roc_auc')\n",
    "# gs2.fit(X_train, y_train)\n",
    "\n",
    "# print('Best score:', gs2.best_score_)\n",
    "# print('Best score:', gs2.best_params_)"
   ]
  },
  {
   "cell_type": "code",
   "execution_count": 39,
   "metadata": {
    "id": "jljCGyUl2EX_",
    "papermill": {
     "duration": 283.175015,
     "end_time": "2020-11-09T07:10:52.075832",
     "exception": false,
     "start_time": "2020-11-09T07:06:08.900817",
     "status": "completed"
    },
    "tags": []
   },
   "outputs": [],
   "source": [
    "# # Extra Tree\n",
    "# # n_jobs=-1 to allow run it on all cores\n",
    "# params = {\n",
    "#     'n_estimators': [100, 200, 500],\n",
    "#     'criterion': ['gini', 'entropy'],\n",
    "#     'min_samples_split': [1,2,4,5],\n",
    "#     'min_samples_leaf': [1,2,4,5],\n",
    "#     'max_leaf_nodes': [4,10,20,50,None]\n",
    "# }\n",
    "\n",
    "# gs3 = GridSearchCV(ExtraTreesClassifier(), params, cv=KFold(n_splits=3), scoring='roc_auc')\n",
    "# gs3.fit(X_train, y_train)\n",
    "\n",
    "# print('Best score:', gs3.best_score_)\n",
    "# print('Best score:', gs3.best_params_)"
   ]
  },
  {
   "cell_type": "markdown",
   "metadata": {
    "id": "HWg02XHT2EX_",
    "papermill": {
     "duration": 0.135489,
     "end_time": "2020-11-09T07:10:52.295727",
     "exception": false,
     "start_time": "2020-11-09T07:10:52.160238",
     "status": "completed"
    },
    "tags": []
   },
   "source": [
    "## Voting - we will use these 3 models in final, merge them\n",
    "Objective here is not to make more accurate model (but it can be), however we want to more stable model"
   ]
  },
  {
   "cell_type": "code",
   "execution_count": 40,
   "metadata": {
    "colab": {
     "base_uri": "https://localhost:8080/"
    },
    "id": "8rgI3SbK2EX_",
    "outputId": "c50ec1ad-a9d2-4d48-e5ee-75633f242ed1",
    "papermill": {
     "duration": 9.499096,
     "end_time": "2020-11-09T07:11:01.879041",
     "exception": false,
     "start_time": "2020-11-09T07:10:52.379945",
     "status": "completed"
    },
    "tags": []
   },
   "outputs": [
    {
     "name": "stderr",
     "output_type": "stream",
     "text": [
      "/opt/conda/envs/Python-3.9/lib/python3.9/site-packages/xgboost/sklearn.py:1224: UserWarning: The use of label encoder in XGBClassifier is deprecated and will be removed in a future release. To remove this warning, do the following: 1) Pass option use_label_encoder=False when constructing XGBClassifier object; and 2) Encode your labels (y) as integers starting with 0, i.e. 0, 1, 2, ..., [num_class - 1].\n",
      "  warnings.warn(label_encoder_deprecation_msg, UserWarning)\n"
     ]
    },
    {
     "ename": "KeyboardInterrupt",
     "evalue": "",
     "output_type": "error",
     "traceback": [
      "\u001b[0;31m---------------------------------------------------------------------------\u001b[0m",
      "\u001b[0;31mKeyboardInterrupt\u001b[0m                         Traceback (most recent call last)",
      "\u001b[0;32m/tmp/wsuser/ipykernel_537/1473796688.py\u001b[0m in \u001b[0;36m<module>\u001b[0;34m\u001b[0m\n\u001b[1;32m     16\u001b[0m \u001b[0;31m# soft voting based on weights\u001b[0m\u001b[0;34m\u001b[0m\u001b[0;34m\u001b[0m\u001b[0m\n\u001b[1;32m     17\u001b[0m \u001b[0mvotesClass\u001b[0m \u001b[0;34m=\u001b[0m \u001b[0mVotingClassifier\u001b[0m\u001b[0;34m(\u001b[0m\u001b[0mestimators\u001b[0m\u001b[0;34m=\u001b[0m\u001b[0mvotes\u001b[0m\u001b[0;34m,\u001b[0m \u001b[0mvoting\u001b[0m\u001b[0;34m=\u001b[0m\u001b[0;34m'soft'\u001b[0m\u001b[0;34m,\u001b[0m \u001b[0mn_jobs\u001b[0m\u001b[0;34m=\u001b[0m\u001b[0;34m-\u001b[0m\u001b[0;36m1\u001b[0m\u001b[0;34m)\u001b[0m\u001b[0;34m\u001b[0m\u001b[0;34m\u001b[0m\u001b[0m\n\u001b[0;32m---> 18\u001b[0;31m \u001b[0mvotesClass_cv\u001b[0m \u001b[0;34m=\u001b[0m \u001b[0mcross_validate\u001b[0m\u001b[0;34m(\u001b[0m\u001b[0mvotesClass\u001b[0m\u001b[0;34m,\u001b[0m \u001b[0mX_train\u001b[0m\u001b[0;34m,\u001b[0m \u001b[0my_train\u001b[0m\u001b[0;34m,\u001b[0m \u001b[0mcv\u001b[0m\u001b[0;34m=\u001b[0m\u001b[0mKFold\u001b[0m\u001b[0;34m(\u001b[0m\u001b[0;36m3\u001b[0m\u001b[0;34m)\u001b[0m\u001b[0;34m)\u001b[0m\u001b[0;34m\u001b[0m\u001b[0;34m\u001b[0m\u001b[0m\n\u001b[0m\u001b[1;32m     19\u001b[0m \u001b[0mvotesClass\u001b[0m\u001b[0;34m.\u001b[0m\u001b[0mfit\u001b[0m\u001b[0;34m(\u001b[0m\u001b[0mX_train\u001b[0m\u001b[0;34m,\u001b[0m \u001b[0my_train\u001b[0m\u001b[0;34m)\u001b[0m\u001b[0;34m\u001b[0m\u001b[0;34m\u001b[0m\u001b[0m\n\u001b[1;32m     20\u001b[0m \u001b[0;34m\u001b[0m\u001b[0m\n",
      "\u001b[0;32m/opt/conda/envs/Python-3.9/lib/python3.9/site-packages/sklearn/model_selection/_validation.py\u001b[0m in \u001b[0;36mcross_validate\u001b[0;34m(estimator, X, y, groups, scoring, cv, n_jobs, verbose, fit_params, pre_dispatch, return_train_score, return_estimator, error_score)\u001b[0m\n\u001b[1;32m    265\u001b[0m     \u001b[0;31m# independent, and that it is pickle-able.\u001b[0m\u001b[0;34m\u001b[0m\u001b[0;34m\u001b[0m\u001b[0m\n\u001b[1;32m    266\u001b[0m     \u001b[0mparallel\u001b[0m \u001b[0;34m=\u001b[0m \u001b[0mParallel\u001b[0m\u001b[0;34m(\u001b[0m\u001b[0mn_jobs\u001b[0m\u001b[0;34m=\u001b[0m\u001b[0mn_jobs\u001b[0m\u001b[0;34m,\u001b[0m \u001b[0mverbose\u001b[0m\u001b[0;34m=\u001b[0m\u001b[0mverbose\u001b[0m\u001b[0;34m,\u001b[0m \u001b[0mpre_dispatch\u001b[0m\u001b[0;34m=\u001b[0m\u001b[0mpre_dispatch\u001b[0m\u001b[0;34m)\u001b[0m\u001b[0;34m\u001b[0m\u001b[0;34m\u001b[0m\u001b[0m\n\u001b[0;32m--> 267\u001b[0;31m     results = parallel(\n\u001b[0m\u001b[1;32m    268\u001b[0m         delayed(_fit_and_score)(\n\u001b[1;32m    269\u001b[0m             \u001b[0mclone\u001b[0m\u001b[0;34m(\u001b[0m\u001b[0mestimator\u001b[0m\u001b[0;34m)\u001b[0m\u001b[0;34m,\u001b[0m\u001b[0;34m\u001b[0m\u001b[0;34m\u001b[0m\u001b[0m\n",
      "\u001b[0;32m/opt/conda/envs/Python-3.9/lib/python3.9/site-packages/joblib/parallel.py\u001b[0m in \u001b[0;36m__call__\u001b[0;34m(self, iterable)\u001b[0m\n\u001b[1;32m   1046\u001b[0m             \u001b[0;31m# remaining jobs.\u001b[0m\u001b[0;34m\u001b[0m\u001b[0;34m\u001b[0m\u001b[0m\n\u001b[1;32m   1047\u001b[0m             \u001b[0mself\u001b[0m\u001b[0;34m.\u001b[0m\u001b[0m_iterating\u001b[0m \u001b[0;34m=\u001b[0m \u001b[0;32mFalse\u001b[0m\u001b[0;34m\u001b[0m\u001b[0;34m\u001b[0m\u001b[0m\n\u001b[0;32m-> 1048\u001b[0;31m             \u001b[0;32mif\u001b[0m \u001b[0mself\u001b[0m\u001b[0;34m.\u001b[0m\u001b[0mdispatch_one_batch\u001b[0m\u001b[0;34m(\u001b[0m\u001b[0miterator\u001b[0m\u001b[0;34m)\u001b[0m\u001b[0;34m:\u001b[0m\u001b[0;34m\u001b[0m\u001b[0;34m\u001b[0m\u001b[0m\n\u001b[0m\u001b[1;32m   1049\u001b[0m                 \u001b[0mself\u001b[0m\u001b[0;34m.\u001b[0m\u001b[0m_iterating\u001b[0m \u001b[0;34m=\u001b[0m \u001b[0mself\u001b[0m\u001b[0;34m.\u001b[0m\u001b[0m_original_iterator\u001b[0m \u001b[0;32mis\u001b[0m \u001b[0;32mnot\u001b[0m \u001b[0;32mNone\u001b[0m\u001b[0;34m\u001b[0m\u001b[0;34m\u001b[0m\u001b[0m\n\u001b[1;32m   1050\u001b[0m \u001b[0;34m\u001b[0m\u001b[0m\n",
      "\u001b[0;32m/opt/conda/envs/Python-3.9/lib/python3.9/site-packages/joblib/parallel.py\u001b[0m in \u001b[0;36mdispatch_one_batch\u001b[0;34m(self, iterator)\u001b[0m\n\u001b[1;32m    864\u001b[0m                 \u001b[0;32mreturn\u001b[0m \u001b[0;32mFalse\u001b[0m\u001b[0;34m\u001b[0m\u001b[0;34m\u001b[0m\u001b[0m\n\u001b[1;32m    865\u001b[0m             \u001b[0;32melse\u001b[0m\u001b[0;34m:\u001b[0m\u001b[0;34m\u001b[0m\u001b[0;34m\u001b[0m\u001b[0m\n\u001b[0;32m--> 866\u001b[0;31m                 \u001b[0mself\u001b[0m\u001b[0;34m.\u001b[0m\u001b[0m_dispatch\u001b[0m\u001b[0;34m(\u001b[0m\u001b[0mtasks\u001b[0m\u001b[0;34m)\u001b[0m\u001b[0;34m\u001b[0m\u001b[0;34m\u001b[0m\u001b[0m\n\u001b[0m\u001b[1;32m    867\u001b[0m                 \u001b[0;32mreturn\u001b[0m \u001b[0;32mTrue\u001b[0m\u001b[0;34m\u001b[0m\u001b[0;34m\u001b[0m\u001b[0m\n\u001b[1;32m    868\u001b[0m \u001b[0;34m\u001b[0m\u001b[0m\n",
      "\u001b[0;32m/opt/conda/envs/Python-3.9/lib/python3.9/site-packages/joblib/parallel.py\u001b[0m in \u001b[0;36m_dispatch\u001b[0;34m(self, batch)\u001b[0m\n\u001b[1;32m    782\u001b[0m         \u001b[0;32mwith\u001b[0m \u001b[0mself\u001b[0m\u001b[0;34m.\u001b[0m\u001b[0m_lock\u001b[0m\u001b[0;34m:\u001b[0m\u001b[0;34m\u001b[0m\u001b[0;34m\u001b[0m\u001b[0m\n\u001b[1;32m    783\u001b[0m             \u001b[0mjob_idx\u001b[0m \u001b[0;34m=\u001b[0m \u001b[0mlen\u001b[0m\u001b[0;34m(\u001b[0m\u001b[0mself\u001b[0m\u001b[0;34m.\u001b[0m\u001b[0m_jobs\u001b[0m\u001b[0;34m)\u001b[0m\u001b[0;34m\u001b[0m\u001b[0;34m\u001b[0m\u001b[0m\n\u001b[0;32m--> 784\u001b[0;31m             \u001b[0mjob\u001b[0m \u001b[0;34m=\u001b[0m \u001b[0mself\u001b[0m\u001b[0;34m.\u001b[0m\u001b[0m_backend\u001b[0m\u001b[0;34m.\u001b[0m\u001b[0mapply_async\u001b[0m\u001b[0;34m(\u001b[0m\u001b[0mbatch\u001b[0m\u001b[0;34m,\u001b[0m \u001b[0mcallback\u001b[0m\u001b[0;34m=\u001b[0m\u001b[0mcb\u001b[0m\u001b[0;34m)\u001b[0m\u001b[0;34m\u001b[0m\u001b[0;34m\u001b[0m\u001b[0m\n\u001b[0m\u001b[1;32m    785\u001b[0m             \u001b[0;31m# A job can complete so quickly than its callback is\u001b[0m\u001b[0;34m\u001b[0m\u001b[0;34m\u001b[0m\u001b[0m\n\u001b[1;32m    786\u001b[0m             \u001b[0;31m# called before we get here, causing self._jobs to\u001b[0m\u001b[0;34m\u001b[0m\u001b[0;34m\u001b[0m\u001b[0m\n",
      "\u001b[0;32m/opt/conda/envs/Python-3.9/lib/python3.9/site-packages/joblib/_parallel_backends.py\u001b[0m in \u001b[0;36mapply_async\u001b[0;34m(self, func, callback)\u001b[0m\n\u001b[1;32m    206\u001b[0m     \u001b[0;32mdef\u001b[0m \u001b[0mapply_async\u001b[0m\u001b[0;34m(\u001b[0m\u001b[0mself\u001b[0m\u001b[0;34m,\u001b[0m \u001b[0mfunc\u001b[0m\u001b[0;34m,\u001b[0m \u001b[0mcallback\u001b[0m\u001b[0;34m=\u001b[0m\u001b[0;32mNone\u001b[0m\u001b[0;34m)\u001b[0m\u001b[0;34m:\u001b[0m\u001b[0;34m\u001b[0m\u001b[0;34m\u001b[0m\u001b[0m\n\u001b[1;32m    207\u001b[0m         \u001b[0;34m\"\"\"Schedule a func to be run\"\"\"\u001b[0m\u001b[0;34m\u001b[0m\u001b[0;34m\u001b[0m\u001b[0m\n\u001b[0;32m--> 208\u001b[0;31m         \u001b[0mresult\u001b[0m \u001b[0;34m=\u001b[0m \u001b[0mImmediateResult\u001b[0m\u001b[0;34m(\u001b[0m\u001b[0mfunc\u001b[0m\u001b[0;34m)\u001b[0m\u001b[0;34m\u001b[0m\u001b[0;34m\u001b[0m\u001b[0m\n\u001b[0m\u001b[1;32m    209\u001b[0m         \u001b[0;32mif\u001b[0m \u001b[0mcallback\u001b[0m\u001b[0;34m:\u001b[0m\u001b[0;34m\u001b[0m\u001b[0;34m\u001b[0m\u001b[0m\n\u001b[1;32m    210\u001b[0m             \u001b[0mcallback\u001b[0m\u001b[0;34m(\u001b[0m\u001b[0mresult\u001b[0m\u001b[0;34m)\u001b[0m\u001b[0;34m\u001b[0m\u001b[0;34m\u001b[0m\u001b[0m\n",
      "\u001b[0;32m/opt/conda/envs/Python-3.9/lib/python3.9/site-packages/joblib/_parallel_backends.py\u001b[0m in \u001b[0;36m__init__\u001b[0;34m(self, batch)\u001b[0m\n\u001b[1;32m    570\u001b[0m         \u001b[0;31m# Don't delay the application, to avoid keeping the input\u001b[0m\u001b[0;34m\u001b[0m\u001b[0;34m\u001b[0m\u001b[0m\n\u001b[1;32m    571\u001b[0m         \u001b[0;31m# arguments in memory\u001b[0m\u001b[0;34m\u001b[0m\u001b[0;34m\u001b[0m\u001b[0m\n\u001b[0;32m--> 572\u001b[0;31m         \u001b[0mself\u001b[0m\u001b[0;34m.\u001b[0m\u001b[0mresults\u001b[0m \u001b[0;34m=\u001b[0m \u001b[0mbatch\u001b[0m\u001b[0;34m(\u001b[0m\u001b[0;34m)\u001b[0m\u001b[0;34m\u001b[0m\u001b[0;34m\u001b[0m\u001b[0m\n\u001b[0m\u001b[1;32m    573\u001b[0m \u001b[0;34m\u001b[0m\u001b[0m\n\u001b[1;32m    574\u001b[0m     \u001b[0;32mdef\u001b[0m \u001b[0mget\u001b[0m\u001b[0;34m(\u001b[0m\u001b[0mself\u001b[0m\u001b[0;34m)\u001b[0m\u001b[0;34m:\u001b[0m\u001b[0;34m\u001b[0m\u001b[0;34m\u001b[0m\u001b[0m\n",
      "\u001b[0;32m/opt/conda/envs/Python-3.9/lib/python3.9/site-packages/joblib/parallel.py\u001b[0m in \u001b[0;36m__call__\u001b[0;34m(self)\u001b[0m\n\u001b[1;32m    260\u001b[0m         \u001b[0;31m# change the default number of processes to -1\u001b[0m\u001b[0;34m\u001b[0m\u001b[0;34m\u001b[0m\u001b[0m\n\u001b[1;32m    261\u001b[0m         \u001b[0;32mwith\u001b[0m \u001b[0mparallel_backend\u001b[0m\u001b[0;34m(\u001b[0m\u001b[0mself\u001b[0m\u001b[0;34m.\u001b[0m\u001b[0m_backend\u001b[0m\u001b[0;34m,\u001b[0m \u001b[0mn_jobs\u001b[0m\u001b[0;34m=\u001b[0m\u001b[0mself\u001b[0m\u001b[0;34m.\u001b[0m\u001b[0m_n_jobs\u001b[0m\u001b[0;34m)\u001b[0m\u001b[0;34m:\u001b[0m\u001b[0;34m\u001b[0m\u001b[0;34m\u001b[0m\u001b[0m\n\u001b[0;32m--> 262\u001b[0;31m             return [func(*args, **kwargs)\n\u001b[0m\u001b[1;32m    263\u001b[0m                     for func, args, kwargs in self.items]\n\u001b[1;32m    264\u001b[0m \u001b[0;34m\u001b[0m\u001b[0m\n",
      "\u001b[0;32m/opt/conda/envs/Python-3.9/lib/python3.9/site-packages/joblib/parallel.py\u001b[0m in \u001b[0;36m<listcomp>\u001b[0;34m(.0)\u001b[0m\n\u001b[1;32m    260\u001b[0m         \u001b[0;31m# change the default number of processes to -1\u001b[0m\u001b[0;34m\u001b[0m\u001b[0;34m\u001b[0m\u001b[0m\n\u001b[1;32m    261\u001b[0m         \u001b[0;32mwith\u001b[0m \u001b[0mparallel_backend\u001b[0m\u001b[0;34m(\u001b[0m\u001b[0mself\u001b[0m\u001b[0;34m.\u001b[0m\u001b[0m_backend\u001b[0m\u001b[0;34m,\u001b[0m \u001b[0mn_jobs\u001b[0m\u001b[0;34m=\u001b[0m\u001b[0mself\u001b[0m\u001b[0;34m.\u001b[0m\u001b[0m_n_jobs\u001b[0m\u001b[0;34m)\u001b[0m\u001b[0;34m:\u001b[0m\u001b[0;34m\u001b[0m\u001b[0;34m\u001b[0m\u001b[0m\n\u001b[0;32m--> 262\u001b[0;31m             return [func(*args, **kwargs)\n\u001b[0m\u001b[1;32m    263\u001b[0m                     for func, args, kwargs in self.items]\n\u001b[1;32m    264\u001b[0m \u001b[0;34m\u001b[0m\u001b[0m\n",
      "\u001b[0;32m/opt/conda/envs/Python-3.9/lib/python3.9/site-packages/sklearn/utils/fixes.py\u001b[0m in \u001b[0;36m__call__\u001b[0;34m(self, *args, **kwargs)\u001b[0m\n\u001b[1;32m    214\u001b[0m     \u001b[0;32mdef\u001b[0m \u001b[0m__call__\u001b[0m\u001b[0;34m(\u001b[0m\u001b[0mself\u001b[0m\u001b[0;34m,\u001b[0m \u001b[0;34m*\u001b[0m\u001b[0margs\u001b[0m\u001b[0;34m,\u001b[0m \u001b[0;34m**\u001b[0m\u001b[0mkwargs\u001b[0m\u001b[0;34m)\u001b[0m\u001b[0;34m:\u001b[0m\u001b[0;34m\u001b[0m\u001b[0;34m\u001b[0m\u001b[0m\n\u001b[1;32m    215\u001b[0m         \u001b[0;32mwith\u001b[0m \u001b[0mconfig_context\u001b[0m\u001b[0;34m(\u001b[0m\u001b[0;34m**\u001b[0m\u001b[0mself\u001b[0m\u001b[0;34m.\u001b[0m\u001b[0mconfig\u001b[0m\u001b[0;34m)\u001b[0m\u001b[0;34m:\u001b[0m\u001b[0;34m\u001b[0m\u001b[0;34m\u001b[0m\u001b[0m\n\u001b[0;32m--> 216\u001b[0;31m             \u001b[0;32mreturn\u001b[0m \u001b[0mself\u001b[0m\u001b[0;34m.\u001b[0m\u001b[0mfunction\u001b[0m\u001b[0;34m(\u001b[0m\u001b[0;34m*\u001b[0m\u001b[0margs\u001b[0m\u001b[0;34m,\u001b[0m \u001b[0;34m**\u001b[0m\u001b[0mkwargs\u001b[0m\u001b[0;34m)\u001b[0m\u001b[0;34m\u001b[0m\u001b[0;34m\u001b[0m\u001b[0m\n\u001b[0m\u001b[1;32m    217\u001b[0m \u001b[0;34m\u001b[0m\u001b[0m\n\u001b[1;32m    218\u001b[0m \u001b[0;34m\u001b[0m\u001b[0m\n",
      "\u001b[0;32m/opt/conda/envs/Python-3.9/lib/python3.9/site-packages/sklearn/model_selection/_validation.py\u001b[0m in \u001b[0;36m_fit_and_score\u001b[0;34m(estimator, X, y, scorer, train, test, verbose, parameters, fit_params, return_train_score, return_parameters, return_n_test_samples, return_times, return_estimator, split_progress, candidate_progress, error_score)\u001b[0m\n\u001b[1;32m    678\u001b[0m             \u001b[0mestimator\u001b[0m\u001b[0;34m.\u001b[0m\u001b[0mfit\u001b[0m\u001b[0;34m(\u001b[0m\u001b[0mX_train\u001b[0m\u001b[0;34m,\u001b[0m \u001b[0;34m**\u001b[0m\u001b[0mfit_params\u001b[0m\u001b[0;34m)\u001b[0m\u001b[0;34m\u001b[0m\u001b[0;34m\u001b[0m\u001b[0m\n\u001b[1;32m    679\u001b[0m         \u001b[0;32melse\u001b[0m\u001b[0;34m:\u001b[0m\u001b[0;34m\u001b[0m\u001b[0;34m\u001b[0m\u001b[0m\n\u001b[0;32m--> 680\u001b[0;31m             \u001b[0mestimator\u001b[0m\u001b[0;34m.\u001b[0m\u001b[0mfit\u001b[0m\u001b[0;34m(\u001b[0m\u001b[0mX_train\u001b[0m\u001b[0;34m,\u001b[0m \u001b[0my_train\u001b[0m\u001b[0;34m,\u001b[0m \u001b[0;34m**\u001b[0m\u001b[0mfit_params\u001b[0m\u001b[0;34m)\u001b[0m\u001b[0;34m\u001b[0m\u001b[0;34m\u001b[0m\u001b[0m\n\u001b[0m\u001b[1;32m    681\u001b[0m \u001b[0;34m\u001b[0m\u001b[0m\n\u001b[1;32m    682\u001b[0m     \u001b[0;32mexcept\u001b[0m \u001b[0mException\u001b[0m\u001b[0;34m:\u001b[0m\u001b[0;34m\u001b[0m\u001b[0;34m\u001b[0m\u001b[0m\n",
      "\u001b[0;32m/opt/conda/envs/Python-3.9/lib/python3.9/site-packages/sklearn/ensemble/_voting.py\u001b[0m in \u001b[0;36mfit\u001b[0;34m(self, X, y, sample_weight)\u001b[0m\n\u001b[1;32m    322\u001b[0m         \u001b[0mtransformed_y\u001b[0m \u001b[0;34m=\u001b[0m \u001b[0mself\u001b[0m\u001b[0;34m.\u001b[0m\u001b[0mle_\u001b[0m\u001b[0;34m.\u001b[0m\u001b[0mtransform\u001b[0m\u001b[0;34m(\u001b[0m\u001b[0my\u001b[0m\u001b[0;34m)\u001b[0m\u001b[0;34m\u001b[0m\u001b[0;34m\u001b[0m\u001b[0m\n\u001b[1;32m    323\u001b[0m \u001b[0;34m\u001b[0m\u001b[0m\n\u001b[0;32m--> 324\u001b[0;31m         \u001b[0;32mreturn\u001b[0m \u001b[0msuper\u001b[0m\u001b[0;34m(\u001b[0m\u001b[0;34m)\u001b[0m\u001b[0;34m.\u001b[0m\u001b[0mfit\u001b[0m\u001b[0;34m(\u001b[0m\u001b[0mX\u001b[0m\u001b[0;34m,\u001b[0m \u001b[0mtransformed_y\u001b[0m\u001b[0;34m,\u001b[0m \u001b[0msample_weight\u001b[0m\u001b[0;34m)\u001b[0m\u001b[0;34m\u001b[0m\u001b[0;34m\u001b[0m\u001b[0m\n\u001b[0m\u001b[1;32m    325\u001b[0m \u001b[0;34m\u001b[0m\u001b[0m\n\u001b[1;32m    326\u001b[0m     \u001b[0;32mdef\u001b[0m \u001b[0mpredict\u001b[0m\u001b[0;34m(\u001b[0m\u001b[0mself\u001b[0m\u001b[0;34m,\u001b[0m \u001b[0mX\u001b[0m\u001b[0;34m)\u001b[0m\u001b[0;34m:\u001b[0m\u001b[0;34m\u001b[0m\u001b[0;34m\u001b[0m\u001b[0m\n",
      "\u001b[0;32m/opt/conda/envs/Python-3.9/lib/python3.9/site-packages/sklearn/ensemble/_voting.py\u001b[0m in \u001b[0;36mfit\u001b[0;34m(self, X, y, sample_weight)\u001b[0m\n\u001b[1;32m     72\u001b[0m             )\n\u001b[1;32m     73\u001b[0m \u001b[0;34m\u001b[0m\u001b[0m\n\u001b[0;32m---> 74\u001b[0;31m         self.estimators_ = Parallel(n_jobs=self.n_jobs)(\n\u001b[0m\u001b[1;32m     75\u001b[0m             delayed(_fit_single_estimator)(\n\u001b[1;32m     76\u001b[0m                 \u001b[0mclone\u001b[0m\u001b[0;34m(\u001b[0m\u001b[0mclf\u001b[0m\u001b[0;34m)\u001b[0m\u001b[0;34m,\u001b[0m\u001b[0;34m\u001b[0m\u001b[0;34m\u001b[0m\u001b[0m\n",
      "\u001b[0;32m/opt/conda/envs/Python-3.9/lib/python3.9/site-packages/joblib/parallel.py\u001b[0m in \u001b[0;36m__call__\u001b[0;34m(self, iterable)\u001b[0m\n\u001b[1;32m   1059\u001b[0m \u001b[0;34m\u001b[0m\u001b[0m\n\u001b[1;32m   1060\u001b[0m             \u001b[0;32mwith\u001b[0m \u001b[0mself\u001b[0m\u001b[0;34m.\u001b[0m\u001b[0m_backend\u001b[0m\u001b[0;34m.\u001b[0m\u001b[0mretrieval_context\u001b[0m\u001b[0;34m(\u001b[0m\u001b[0;34m)\u001b[0m\u001b[0;34m:\u001b[0m\u001b[0;34m\u001b[0m\u001b[0;34m\u001b[0m\u001b[0m\n\u001b[0;32m-> 1061\u001b[0;31m                 \u001b[0mself\u001b[0m\u001b[0;34m.\u001b[0m\u001b[0mretrieve\u001b[0m\u001b[0;34m(\u001b[0m\u001b[0;34m)\u001b[0m\u001b[0;34m\u001b[0m\u001b[0;34m\u001b[0m\u001b[0m\n\u001b[0m\u001b[1;32m   1062\u001b[0m             \u001b[0;31m# Make sure that we get a last message telling us we are done\u001b[0m\u001b[0;34m\u001b[0m\u001b[0;34m\u001b[0m\u001b[0m\n\u001b[1;32m   1063\u001b[0m             \u001b[0melapsed_time\u001b[0m \u001b[0;34m=\u001b[0m \u001b[0mtime\u001b[0m\u001b[0;34m.\u001b[0m\u001b[0mtime\u001b[0m\u001b[0;34m(\u001b[0m\u001b[0;34m)\u001b[0m \u001b[0;34m-\u001b[0m \u001b[0mself\u001b[0m\u001b[0;34m.\u001b[0m\u001b[0m_start_time\u001b[0m\u001b[0;34m\u001b[0m\u001b[0;34m\u001b[0m\u001b[0m\n",
      "\u001b[0;32m/opt/conda/envs/Python-3.9/lib/python3.9/site-packages/joblib/parallel.py\u001b[0m in \u001b[0;36mretrieve\u001b[0;34m(self)\u001b[0m\n\u001b[1;32m    938\u001b[0m             \u001b[0;32mtry\u001b[0m\u001b[0;34m:\u001b[0m\u001b[0;34m\u001b[0m\u001b[0;34m\u001b[0m\u001b[0m\n\u001b[1;32m    939\u001b[0m                 \u001b[0;32mif\u001b[0m \u001b[0mgetattr\u001b[0m\u001b[0;34m(\u001b[0m\u001b[0mself\u001b[0m\u001b[0;34m.\u001b[0m\u001b[0m_backend\u001b[0m\u001b[0;34m,\u001b[0m \u001b[0;34m'supports_timeout'\u001b[0m\u001b[0;34m,\u001b[0m \u001b[0;32mFalse\u001b[0m\u001b[0;34m)\u001b[0m\u001b[0;34m:\u001b[0m\u001b[0;34m\u001b[0m\u001b[0;34m\u001b[0m\u001b[0m\n\u001b[0;32m--> 940\u001b[0;31m                     \u001b[0mself\u001b[0m\u001b[0;34m.\u001b[0m\u001b[0m_output\u001b[0m\u001b[0;34m.\u001b[0m\u001b[0mextend\u001b[0m\u001b[0;34m(\u001b[0m\u001b[0mjob\u001b[0m\u001b[0;34m.\u001b[0m\u001b[0mget\u001b[0m\u001b[0;34m(\u001b[0m\u001b[0mtimeout\u001b[0m\u001b[0;34m=\u001b[0m\u001b[0mself\u001b[0m\u001b[0;34m.\u001b[0m\u001b[0mtimeout\u001b[0m\u001b[0;34m)\u001b[0m\u001b[0;34m)\u001b[0m\u001b[0;34m\u001b[0m\u001b[0;34m\u001b[0m\u001b[0m\n\u001b[0m\u001b[1;32m    941\u001b[0m                 \u001b[0;32melse\u001b[0m\u001b[0;34m:\u001b[0m\u001b[0;34m\u001b[0m\u001b[0;34m\u001b[0m\u001b[0m\n\u001b[1;32m    942\u001b[0m                     \u001b[0mself\u001b[0m\u001b[0;34m.\u001b[0m\u001b[0m_output\u001b[0m\u001b[0;34m.\u001b[0m\u001b[0mextend\u001b[0m\u001b[0;34m(\u001b[0m\u001b[0mjob\u001b[0m\u001b[0;34m.\u001b[0m\u001b[0mget\u001b[0m\u001b[0;34m(\u001b[0m\u001b[0;34m)\u001b[0m\u001b[0;34m)\u001b[0m\u001b[0;34m\u001b[0m\u001b[0;34m\u001b[0m\u001b[0m\n",
      "\u001b[0;32m/opt/conda/envs/Python-3.9/lib/python3.9/site-packages/joblib/_parallel_backends.py\u001b[0m in \u001b[0;36mwrap_future_result\u001b[0;34m(future, timeout)\u001b[0m\n\u001b[1;32m    540\u001b[0m         AsyncResults.get from multiprocessing.\"\"\"\n\u001b[1;32m    541\u001b[0m         \u001b[0;32mtry\u001b[0m\u001b[0;34m:\u001b[0m\u001b[0;34m\u001b[0m\u001b[0;34m\u001b[0m\u001b[0m\n\u001b[0;32m--> 542\u001b[0;31m             \u001b[0;32mreturn\u001b[0m \u001b[0mfuture\u001b[0m\u001b[0;34m.\u001b[0m\u001b[0mresult\u001b[0m\u001b[0;34m(\u001b[0m\u001b[0mtimeout\u001b[0m\u001b[0;34m=\u001b[0m\u001b[0mtimeout\u001b[0m\u001b[0;34m)\u001b[0m\u001b[0;34m\u001b[0m\u001b[0;34m\u001b[0m\u001b[0m\n\u001b[0m\u001b[1;32m    543\u001b[0m         \u001b[0;32mexcept\u001b[0m \u001b[0mCfTimeoutError\u001b[0m \u001b[0;32mas\u001b[0m \u001b[0me\u001b[0m\u001b[0;34m:\u001b[0m\u001b[0;34m\u001b[0m\u001b[0;34m\u001b[0m\u001b[0m\n\u001b[1;32m    544\u001b[0m             \u001b[0;32mraise\u001b[0m \u001b[0mTimeoutError\u001b[0m \u001b[0;32mfrom\u001b[0m \u001b[0me\u001b[0m\u001b[0;34m\u001b[0m\u001b[0;34m\u001b[0m\u001b[0m\n",
      "\u001b[0;32m/opt/conda/envs/Python-3.9/lib/python3.9/concurrent/futures/_base.py\u001b[0m in \u001b[0;36mresult\u001b[0;34m(self, timeout)\u001b[0m\n\u001b[1;32m    439\u001b[0m                     \u001b[0;32mreturn\u001b[0m \u001b[0mself\u001b[0m\u001b[0;34m.\u001b[0m\u001b[0m__get_result\u001b[0m\u001b[0;34m(\u001b[0m\u001b[0;34m)\u001b[0m\u001b[0;34m\u001b[0m\u001b[0;34m\u001b[0m\u001b[0m\n\u001b[1;32m    440\u001b[0m \u001b[0;34m\u001b[0m\u001b[0m\n\u001b[0;32m--> 441\u001b[0;31m                 \u001b[0mself\u001b[0m\u001b[0;34m.\u001b[0m\u001b[0m_condition\u001b[0m\u001b[0;34m.\u001b[0m\u001b[0mwait\u001b[0m\u001b[0;34m(\u001b[0m\u001b[0mtimeout\u001b[0m\u001b[0;34m)\u001b[0m\u001b[0;34m\u001b[0m\u001b[0;34m\u001b[0m\u001b[0m\n\u001b[0m\u001b[1;32m    442\u001b[0m \u001b[0;34m\u001b[0m\u001b[0m\n\u001b[1;32m    443\u001b[0m                 \u001b[0;32mif\u001b[0m \u001b[0mself\u001b[0m\u001b[0;34m.\u001b[0m\u001b[0m_state\u001b[0m \u001b[0;32min\u001b[0m \u001b[0;34m[\u001b[0m\u001b[0mCANCELLED\u001b[0m\u001b[0;34m,\u001b[0m \u001b[0mCANCELLED_AND_NOTIFIED\u001b[0m\u001b[0;34m]\u001b[0m\u001b[0;34m:\u001b[0m\u001b[0;34m\u001b[0m\u001b[0;34m\u001b[0m\u001b[0m\n",
      "\u001b[0;32m/opt/conda/envs/Python-3.9/lib/python3.9/threading.py\u001b[0m in \u001b[0;36mwait\u001b[0;34m(self, timeout)\u001b[0m\n\u001b[1;32m    310\u001b[0m         \u001b[0;32mtry\u001b[0m\u001b[0;34m:\u001b[0m    \u001b[0;31m# restore state no matter what (e.g., KeyboardInterrupt)\u001b[0m\u001b[0;34m\u001b[0m\u001b[0;34m\u001b[0m\u001b[0m\n\u001b[1;32m    311\u001b[0m             \u001b[0;32mif\u001b[0m \u001b[0mtimeout\u001b[0m \u001b[0;32mis\u001b[0m \u001b[0;32mNone\u001b[0m\u001b[0;34m:\u001b[0m\u001b[0;34m\u001b[0m\u001b[0;34m\u001b[0m\u001b[0m\n\u001b[0;32m--> 312\u001b[0;31m                 \u001b[0mwaiter\u001b[0m\u001b[0;34m.\u001b[0m\u001b[0macquire\u001b[0m\u001b[0;34m(\u001b[0m\u001b[0;34m)\u001b[0m\u001b[0;34m\u001b[0m\u001b[0;34m\u001b[0m\u001b[0m\n\u001b[0m\u001b[1;32m    313\u001b[0m                 \u001b[0mgotit\u001b[0m \u001b[0;34m=\u001b[0m \u001b[0;32mTrue\u001b[0m\u001b[0;34m\u001b[0m\u001b[0;34m\u001b[0m\u001b[0m\n\u001b[1;32m    314\u001b[0m             \u001b[0;32melse\u001b[0m\u001b[0;34m:\u001b[0m\u001b[0;34m\u001b[0m\u001b[0;34m\u001b[0m\u001b[0m\n",
      "\u001b[0;31mKeyboardInterrupt\u001b[0m: "
     ]
    }
   ],
   "source": [
    "from sklearn.model_selection import cross_validate\n",
    "from sklearn.ensemble import VotingClassifier\n",
    "\n",
    "votes = [\n",
    "    ('rf', RandomForestClassifier(n_jobs=-1, criterion='gini', max_leaf_nodes=None, min_samples_leaf=1, min_samples_split=2, n_estimators=100)),\n",
    "    ('xgb', XGBClassifier(n_jobs=-1, base_score=0.2, booster='gbtree', gamma=0, learning_rate=0.1, n_estimators=500, reg_alpha=0, reg_lambda=1)),\n",
    "    ('xt', ExtraTreesClassifier(n_jobs=-1, criterion='gini', max_leaf_nodes=None, min_samples_leaf=1, min_samples_split=2, n_estimators=500))\n",
    "]\n",
    "\n",
    "# votes = [\n",
    "#     ('rf', gs1.best_estimator_),\n",
    "#     ('xgb', gs2.best_estimator_),\n",
    "#     ('xt', gs3.best_estimator_)\n",
    "# ]\n",
    "\n",
    "# soft voting based on weights\n",
    "votesClass = VotingClassifier(estimators=votes, voting='soft', n_jobs=-1)\n",
    "votesClass_cv = cross_validate(votesClass, X_train, y_train, cv=KFold(3))\n",
    "votesClass.fit(X_train, y_train)\n",
    "\n",
    "votesClass_cv"
   ]
  },
  {
   "cell_type": "code",
   "execution_count": null,
   "metadata": {
    "colab": {
     "base_uri": "https://localhost:8080/"
    },
    "id": "O06YJGtA2EX_",
    "outputId": "990dc7dd-3d52-4037-abee-75c07103042b",
    "papermill": {
     "duration": 0.783754,
     "end_time": "2020-11-09T07:11:02.754304",
     "exception": false,
     "start_time": "2020-11-09T07:11:01.970550",
     "status": "completed"
    },
    "tags": []
   },
   "outputs": [],
   "source": [
    "from sklearn.ensemble import ExtraTreesClassifier\n",
    "\n",
    "model = votesClass\n",
    "#model.fit(X_train, y_train)\n",
    "y_train_hat = model.predict(X_train)\n",
    "y_test_hat = model.predict(X_test)\n",
    "\n",
    "print(model)\n",
    "print('Train performance')\n",
    "print('-------------------------------------------------------')\n",
    "print(classification_report(y_train, y_train_hat))\n",
    "\n",
    "print('Test performance')\n",
    "print('-------------------------------------------------------')\n",
    "print(classification_report(y_test, y_test_hat))\n",
    "\n",
    "print('Roc_auc score')\n",
    "print('-------------------------------------------------------')\n",
    "print(roc_auc_score(y_test, y_test_hat))\n",
    "print('')\n",
    "\n",
    "print('Confusion matrix')\n",
    "print('-------------------------------------------------------')\n",
    "print(confusion_matrix(y_test, y_test_hat))\n"
   ]
  },
  {
   "cell_type": "code",
   "execution_count": null,
   "metadata": {
    "colab": {
     "base_uri": "https://localhost:8080/"
    },
    "id": "nb-GX8NGQf6o",
    "outputId": "4f788327-7335-43bc-e9a2-5015a97615b8"
   },
   "outputs": [],
   "source": [
    "model.predict([[-0.2       , -1.        , -0.07400058,  0.64736905,  1.98471644,\n",
    "        -0.37166352]])"
   ]
  },
  {
   "cell_type": "code",
   "execution_count": null,
   "metadata": {
    "colab": {
     "base_uri": "https://localhost:8080/"
    },
    "id": "3nlzOmnFQlfb",
    "outputId": "d7c9fabf-f7e6-490d-b1c4-f220087a6a7d"
   },
   "outputs": [],
   "source": [
    "X_test"
   ]
  },
  {
   "cell_type": "code",
   "execution_count": null,
   "metadata": {
    "colab": {
     "base_uri": "https://localhost:8080/"
    },
    "id": "D8rhOxB9WW1S",
    "outputId": "642ad7a7-1f2e-44da-d0b9-a07950b71c1d"
   },
   "outputs": [],
   "source": [
    "from sklearn.model_selection import cross_validate\n",
    "from sklearn.ensemble import VotingClassifier\n",
    "\n",
    "votes = [\n",
    "    ('rf', RandomForestClassifier(n_jobs=-1, criterion='gini', max_leaf_nodes=None, min_samples_leaf=1, min_samples_split=2, n_estimators=100)),\n",
    "    ('xgb', XGBClassifier(n_jobs=-1, base_score=0.2, booster='gbtree', gamma=0, learning_rate=0.1, n_estimators=500, reg_alpha=0, reg_lambda=1)),\n",
    "    ('xt', ExtraTreesClassifier(n_jobs=-1, criterion='gini', max_leaf_nodes=None, min_samples_leaf=1, min_samples_split=2, n_estimators=500))\n",
    "]\n",
    "\n",
    "# votes = [\n",
    "#     ('rf', gs1.best_estimator_),\n",
    "#     ('xgb', gs2.best_estimator_),\n",
    "#     ('xt', gs3.best_estimator_)\n",
    "# ]\n",
    "\n",
    "# soft voting based on weights\n",
    "votesClass = VotingClassifier(estimators=votes, voting='soft', n_jobs=-1)\n",
    "votesClass_cv = cross_validate(votesClass, X, y, cv=KFold(3))\n",
    "votesClass.fit(X, y)\n",
    "\n",
    "votesClass_cv"
   ]
  },
  {
   "cell_type": "markdown",
   "metadata": {
    "id": "ztjtHMHE2EX_",
    "papermill": {
     "duration": 0.083932,
     "end_time": "2020-11-09T07:11:02.923451",
     "exception": false,
     "start_time": "2020-11-09T07:11:02.839519",
     "status": "completed"
    },
    "tags": []
   },
   "source": [
    "**Great**, we've got f1 score 0.84, it's not better that we've had, but even not worse.\n",
    "Our model is still overfitting data, it could be much better having more data but model still generalize well on test set.\n",
    "If you have any suggestions how to reduce overfitting, place your comment here ;)"
   ]
  },
  {
   "cell_type": "markdown",
   "metadata": {
    "id": "bKO149b4XxQH"
   },
   "source": [
    "# IBM DEPLOYMENT"
   ]
  },
  {
   "cell_type": "code",
   "execution_count": 42,
   "metadata": {},
   "outputs": [
    {
     "name": "stdout",
     "output_type": "stream",
     "text": [
      "Requirement already satisfied: ibm-watson-machine-learning in /opt/conda/envs/Python-3.9/lib/python3.9/site-packages (1.0.257)\n",
      "Requirement already satisfied: requests in /opt/conda/envs/Python-3.9/lib/python3.9/site-packages (from ibm-watson-machine-learning) (2.26.0)\n",
      "Requirement already satisfied: lomond in /opt/conda/envs/Python-3.9/lib/python3.9/site-packages (from ibm-watson-machine-learning) (0.3.3)\n",
      "Requirement already satisfied: certifi in /opt/conda/envs/Python-3.9/lib/python3.9/site-packages (from ibm-watson-machine-learning) (2022.9.24)\n",
      "Requirement already satisfied: packaging in /opt/conda/envs/Python-3.9/lib/python3.9/site-packages (from ibm-watson-machine-learning) (21.3)\n",
      "Requirement already satisfied: urllib3 in /opt/conda/envs/Python-3.9/lib/python3.9/site-packages (from ibm-watson-machine-learning) (1.26.7)\n",
      "Requirement already satisfied: importlib-metadata in /opt/conda/envs/Python-3.9/lib/python3.9/site-packages (from ibm-watson-machine-learning) (4.8.2)\n",
      "Requirement already satisfied: pandas<1.5.0,>=0.24.2 in /opt/conda/envs/Python-3.9/lib/python3.9/site-packages (from ibm-watson-machine-learning) (1.3.4)\n",
      "Requirement already satisfied: ibm-cos-sdk==2.11.* in /opt/conda/envs/Python-3.9/lib/python3.9/site-packages (from ibm-watson-machine-learning) (2.11.0)\n",
      "Requirement already satisfied: tabulate in /opt/conda/envs/Python-3.9/lib/python3.9/site-packages (from ibm-watson-machine-learning) (0.8.9)\n",
      "Requirement already satisfied: jmespath<1.0.0,>=0.7.1 in /opt/conda/envs/Python-3.9/lib/python3.9/site-packages (from ibm-cos-sdk==2.11.*->ibm-watson-machine-learning) (0.10.0)\n",
      "Requirement already satisfied: ibm-cos-sdk-s3transfer==2.11.0 in /opt/conda/envs/Python-3.9/lib/python3.9/site-packages (from ibm-cos-sdk==2.11.*->ibm-watson-machine-learning) (2.11.0)\n",
      "Requirement already satisfied: ibm-cos-sdk-core==2.11.0 in /opt/conda/envs/Python-3.9/lib/python3.9/site-packages (from ibm-cos-sdk==2.11.*->ibm-watson-machine-learning) (2.11.0)\n",
      "Requirement already satisfied: python-dateutil<3.0.0,>=2.1 in /opt/conda/envs/Python-3.9/lib/python3.9/site-packages (from ibm-cos-sdk-core==2.11.0->ibm-cos-sdk==2.11.*->ibm-watson-machine-learning) (2.8.2)\n",
      "Requirement already satisfied: pytz>=2017.3 in /opt/conda/envs/Python-3.9/lib/python3.9/site-packages (from pandas<1.5.0,>=0.24.2->ibm-watson-machine-learning) (2021.3)\n",
      "Requirement already satisfied: numpy>=1.17.3 in /opt/conda/envs/Python-3.9/lib/python3.9/site-packages (from pandas<1.5.0,>=0.24.2->ibm-watson-machine-learning) (1.20.3)\n",
      "Requirement already satisfied: six>=1.5 in /opt/conda/envs/Python-3.9/lib/python3.9/site-packages (from python-dateutil<3.0.0,>=2.1->ibm-cos-sdk-core==2.11.0->ibm-cos-sdk==2.11.*->ibm-watson-machine-learning) (1.15.0)\n",
      "Requirement already satisfied: charset-normalizer~=2.0.0 in /opt/conda/envs/Python-3.9/lib/python3.9/site-packages (from requests->ibm-watson-machine-learning) (2.0.4)\n",
      "Requirement already satisfied: idna<4,>=2.5 in /opt/conda/envs/Python-3.9/lib/python3.9/site-packages (from requests->ibm-watson-machine-learning) (3.3)\n",
      "Requirement already satisfied: zipp>=0.5 in /opt/conda/envs/Python-3.9/lib/python3.9/site-packages (from importlib-metadata->ibm-watson-machine-learning) (3.6.0)\n",
      "Requirement already satisfied: pyparsing!=3.0.5,>=2.0.2 in /opt/conda/envs/Python-3.9/lib/python3.9/site-packages (from packaging->ibm-watson-machine-learning) (3.0.4)\n"
     ]
    }
   ],
   "source": [
    "!pip install -U ibm-watson-machine-learning"
   ]
  },
  {
   "cell_type": "code",
   "execution_count": 43,
   "metadata": {},
   "outputs": [],
   "source": [
    "from ibm_watson_machine_learning import APIClient\n",
    "import json"
   ]
  },
  {
   "cell_type": "markdown",
   "metadata": {},
   "source": [
    "# AUTHENTICATE AND SET SPACE"
   ]
  },
  {
   "cell_type": "code",
   "execution_count": 45,
   "metadata": {},
   "outputs": [],
   "source": [
    "wml_credentials ={\n",
    "    \"apikey\":\"j0BgO8c07rllOiKYd-fzN6fUKss9_b9Sd633gGNKCTgx\",\n",
    "    \"url\":\"https://us-south.ml.cloud.ibm.com\"\n",
    "}"
   ]
  },
  {
   "cell_type": "code",
   "execution_count": 46,
   "metadata": {},
   "outputs": [],
   "source": [
    "wml_client = APIClient(wml_credentials)"
   ]
  },
  {
   "cell_type": "code",
   "execution_count": 47,
   "metadata": {},
   "outputs": [
    {
     "name": "stdout",
     "output_type": "stream",
     "text": [
      "Note: 'limit' is not provided. Only first 50 records will be displayed if the number of records exceed 50\n",
      "------------------------------------  -----  ------------------------\n",
      "ID                                    NAME   CREATED\n",
      "16f09ae2-fea1-43c5-beb7-b9cde7c7398b  liver  2022-11-14T12:59:25.162Z\n",
      "fb3f439f-11b4-4c30-9aeb-d794ed108bca  uaep   2022-11-13T07:14:36.279Z\n",
      "------------------------------------  -----  ------------------------\n"
     ]
    }
   ],
   "source": [
    "wml_client.spaces.list()"
   ]
  },
  {
   "cell_type": "code",
   "execution_count": 48,
   "metadata": {},
   "outputs": [],
   "source": [
    "SPACE_ID=\"16f09ae2-fea1-43c5-beb7-b9cde7c7398b\""
   ]
  },
  {
   "cell_type": "code",
   "execution_count": 49,
   "metadata": {},
   "outputs": [
    {
     "data": {
      "text/plain": [
       "'SUCCESS'"
      ]
     },
     "execution_count": 49,
     "metadata": {},
     "output_type": "execute_result"
    }
   ],
   "source": [
    "wml_client.set.default_space(SPACE_ID)"
   ]
  },
  {
   "cell_type": "code",
   "execution_count": 50,
   "metadata": {},
   "outputs": [
    {
     "name": "stdout",
     "output_type": "stream",
     "text": [
      "-------------------------------  ------------------------------------  ----\n",
      "NAME                             ASSET_ID                              TYPE\n",
      "default_py3.6                    0062b8c9-8b7d-44a0-a9b9-46c416adcbd9  base\n",
      "kernel-spark3.2-scala2.12        020d69ce-7ac1-5e68-ac1a-31189867356a  base\n",
      "pytorch-onnx_1.3-py3.7-edt       069ea134-3346-5748-b513-49120e15d288  base\n",
      "scikit-learn_0.20-py3.6          09c5a1d0-9c1e-4473-a344-eb7b665ff687  base\n",
      "spark-mllib_3.0-scala_2.12       09f4cff0-90a7-5899-b9ed-1ef348aebdee  base\n",
      "pytorch-onnx_rt22.1-py3.9        0b848dd4-e681-5599-be41-b5f6fccc6471  base\n",
      "ai-function_0.1-py3.6            0cdb0f1e-5376-4f4d-92dd-da3b69aa9bda  base\n",
      "shiny-r3.6                       0e6e79df-875e-4f24-8ae9-62dcc2148306  base\n",
      "tensorflow_2.4-py3.7-horovod     1092590a-307d-563d-9b62-4eb7d64b3f22  base\n",
      "pytorch_1.1-py3.6                10ac12d6-6b30-4ccd-8392-3e922c096a92  base\n",
      "tensorflow_1.15-py3.6-ddl        111e41b3-de2d-5422-a4d6-bf776828c4b7  base\n",
      "autoai-kb_rt22.2-py3.10          125b6d9a-5b1f-5e8d-972a-b251688ccf40  base\n",
      "runtime-22.1-py3.9               12b83a17-24d8-5082-900f-0ab31fbfd3cb  base\n",
      "scikit-learn_0.22-py3.6          154010fa-5b3b-4ac1-82af-4d5ee5abbc85  base\n",
      "default_r3.6                     1b70aec3-ab34-4b87-8aa0-a4a3c8296a36  base\n",
      "pytorch-onnx_1.3-py3.6           1bc6029a-cc97-56da-b8e0-39c3880dbbe7  base\n",
      "kernel-spark3.3-r3.6             1c9e5454-f216-59dd-a20e-474a5cdf5988  base\n",
      "pytorch-onnx_rt22.1-py3.9-edt    1d362186-7ad5-5b59-8b6c-9d0880bde37f  base\n",
      "tensorflow_2.1-py3.6             1eb25b84-d6ed-5dde-b6a5-3fbdf1665666  base\n",
      "spark-mllib_3.2                  20047f72-0a98-58c7-9ff5-a77b012eb8f5  base\n",
      "tensorflow_2.4-py3.8-horovod     217c16f6-178f-56bf-824a-b19f20564c49  base\n",
      "runtime-22.1-py3.9-cuda          26215f05-08c3-5a41-a1b0-da66306ce658  base\n",
      "do_py3.8                         295addb5-9ef9-547e-9bf4-92ae3563e720  base\n",
      "autoai-ts_3.8-py3.8              2aa0c932-798f-5ae9-abd6-15e0c2402fb5  base\n",
      "tensorflow_1.15-py3.6            2b73a275-7cbf-420b-a912-eae7f436e0bc  base\n",
      "kernel-spark3.3-py3.9            2b7961e2-e3b1-5a8c-a491-482c8368839a  base\n",
      "pytorch_1.2-py3.6                2c8ef57d-2687-4b7d-acce-01f94976dac1  base\n",
      "spark-mllib_2.3                  2e51f700-bca0-4b0d-88dc-5c6791338875  base\n",
      "pytorch-onnx_1.1-py3.6-edt       32983cea-3f32-4400-8965-dde874a8d67e  base\n",
      "spark-mllib_3.0-py37             36507ebe-8770-55ba-ab2a-eafe787600e9  base\n",
      "spark-mllib_2.4                  390d21f8-e58b-4fac-9c55-d7ceda621326  base\n",
      "autoai-ts_rt22.2-py3.10          396b2e83-0953-5b86-9a55-7ce1628a406f  base\n",
      "xgboost_0.82-py3.6               39e31acd-5f30-41dc-ae44-60233c80306e  base\n",
      "pytorch-onnx_1.2-py3.6-edt       40589d0e-7019-4e28-8daa-fb03b6f4fe12  base\n",
      "pytorch-onnx_rt22.2-py3.10       40e73f55-783a-5535-b3fa-0c8b94291431  base\n",
      "default_r36py38                  41c247d3-45f8-5a71-b065-8580229facf0  base\n",
      "autoai-ts_rt22.1-py3.9           4269d26e-07ba-5d40-8f66-2d495b0c71f7  base\n",
      "autoai-obm_3.0                   42b92e18-d9ab-567f-988a-4240ba1ed5f7  base\n",
      "pmml-3.0_4.3                     493bcb95-16f1-5bc5-bee8-81b8af80e9c7  base\n",
      "spark-mllib_2.4-r_3.6            49403dff-92e9-4c87-a3d7-a42d0021c095  base\n",
      "xgboost_0.90-py3.6               4ff8d6c2-1343-4c18-85e1-689c965304d3  base\n",
      "pytorch-onnx_1.1-py3.6           50f95b2a-bc16-43bb-bc94-b0bed208c60b  base\n",
      "autoai-ts_3.9-py3.8              52c57136-80fa-572e-8728-a5e7cbb42cde  base\n",
      "spark-mllib_2.4-scala_2.11       55a70f99-7320-4be5-9fb9-9edb5a443af5  base\n",
      "spark-mllib_3.0                  5c1b0ca2-4977-5c2e-9439-ffd44ea8ffe9  base\n",
      "autoai-obm_2.0                   5c2e37fa-80b8-5e77-840f-d912469614ee  base\n",
      "spss-modeler_18.1                5c3cad7e-507f-4b2a-a9a3-ab53a21dee8b  base\n",
      "cuda-py3.8                       5d3232bf-c86b-5df4-a2cd-7bb870a1cd4e  base\n",
      "autoai-kb_3.1-py3.7              632d4b22-10aa-5180-88f0-f52dfb6444d7  base\n",
      "pytorch-onnx_1.7-py3.8           634d3cdc-b562-5bf9-a2d4-ea90a478456b  base\n",
      "spark-mllib_2.3-r_3.6            6586b9e3-ccd6-4f92-900f-0f8cb2bd6f0c  base\n",
      "tensorflow_2.4-py3.7             65e171d7-72d1-55d9-8ebb-f813d620c9bb  base\n",
      "spss-modeler_18.2                687eddc9-028a-4117-b9dd-e57b36f1efa5  base\n",
      "pytorch-onnx_1.2-py3.6           692a6a4d-2c4d-45ff-a1ed-b167ee55469a  base\n",
      "spark-mllib_2.3-scala_2.11       7963efe5-bbec-417e-92cf-0574e21b4e8d  base\n",
      "spark-mllib_2.4-py37             7abc992b-b685-532b-a122-a396a3cdbaab  base\n",
      "caffe_1.0-py3.6                  7bb3dbe2-da6e-4145-918d-b6d84aa93b6b  base\n",
      "pytorch-onnx_1.7-py3.7           812c6631-42b7-5613-982b-02098e6c909c  base\n",
      "cuda-py3.6                       82c79ece-4d12-40e6-8787-a7b9e0f62770  base\n",
      "tensorflow_1.15-py3.6-horovod    8964680e-d5e4-5bb8-919b-8342c6c0dfd8  base\n",
      "hybrid_0.1                       8c1a58c6-62b5-4dc4-987a-df751c2756b6  base\n",
      "pytorch-onnx_1.3-py3.7           8d5d8a87-a912-54cf-81ec-3914adaa988d  base\n",
      "caffe-ibm_1.0-py3.6              8d863266-7927-4d1e-97d7-56a7f4c0a19b  base\n",
      "spss-modeler_17.1                902d0051-84bd-4af6-ab6b-8f6aa6fdeabb  base\n",
      "do_12.10                         9100fd72-8159-4eb9-8a0b-a87e12eefa36  base\n",
      "do_py3.7                         9447fa8b-2051-4d24-9eef-5acb0e3c59f8  base\n",
      "spark-mllib_3.0-r_3.6            94bb6052-c837-589d-83f1-f4142f219e32  base\n",
      "cuda-py3.7-opence                94e9652b-7f2d-59d5-ba5a-23a414ea488f  base\n",
      "nlp-py3.8                        96e60351-99d4-5a1c-9cc0-473ac1b5a864  base\n",
      "cuda-py3.7                       9a44990c-1aa1-4c7d-baf8-c4099011741c  base\n",
      "hybrid_0.2                       9b3f9040-9cee-4ead-8d7a-780600f542f7  base\n",
      "spark-mllib_3.0-py38             9f7a8fc1-4d3c-5e65-ab90-41fa8de2d418  base\n",
      "autoai-kb_3.3-py3.7              a545cca3-02df-5c61-9e88-998b09dc79af  base\n",
      "spark-mllib_3.0-py39             a6082a27-5acc-5163-b02c-6b96916eb5e0  base\n",
      "runtime-22.1-py3.9-do            a7e7dbf1-1d03-5544-994d-e5ec845ce99a  base\n",
      "default_py3.8                    ab9e1b80-f2ce-592c-a7d2-4f2344f77194  base\n",
      "tensorflow_rt22.1-py3.9          acd9c798-6974-5d2f-a657-ce06e986df4d  base\n",
      "kernel-spark3.2-py3.9            ad7033ee-794e-58cf-812e-a95f4b64b207  base\n",
      "autoai-obm_2.0 with Spark 3.0    af10f35f-69fa-5d66-9bf5-acb58434263a  base\n",
      "default_py3.7_opence             c2057dd4-f42c-5f77-a02f-72bdbd3282c9  base\n",
      "tensorflow_2.1-py3.7             c4032338-2a40-500a-beef-b01ab2667e27  base\n",
      "do_py3.7_opence                  cc8f8976-b74a-551a-bb66-6377f8d865b4  base\n",
      "spark-mllib_3.3                  d11f2434-4fc7-58b7-8a62-755da64fdaf8  base\n",
      "autoai-kb_3.0-py3.6              d139f196-e04b-5d8b-9140-9a10ca1fa91a  base\n",
      "spark-mllib_3.0-py36             d82546d5-dd78-5fbb-9131-2ec309bc56ed  base\n",
      "autoai-kb_3.4-py3.8              da9b39c3-758c-5a4f-9cfd-457dd4d8c395  base\n",
      "kernel-spark3.2-r3.6             db2fe4d6-d641-5d05-9972-73c654c60e0a  base\n",
      "autoai-kb_rt22.1-py3.9           db6afe93-665f-5910-b117-d879897404d9  base\n",
      "tensorflow_rt22.1-py3.9-horovod  dda170cc-ca67-5da7-9b7a-cf84c6987fae  base\n",
      "autoai-ts_1.0-py3.7              deef04f0-0c42-5147-9711-89f9904299db  base\n",
      "tensorflow_2.1-py3.7-horovod     e384fce5-fdd1-53f8-bc71-11326c9c635f  base\n",
      "default_py3.7                    e4429883-c883-42b6-87a8-f419d64088cd  base\n",
      "do_22.1                          e51999ba-6452-5f1f-8287-17228b88b652  base\n",
      "autoai-obm_3.2                   eae86aab-da30-5229-a6a6-1d0d4e368983  base\n",
      "tensorflow_rt22.2-py3.10         f65bd165-f057-55de-b5cb-f97cf2c0f393  base\n",
      "do_20.1                          f686cdd9-7904-5f9d-a732-01b0d6b10dc5  base\n",
      "pytorch-onnx_rt22.2-py3.10-edt   f8a05d07-e7cd-57bb-a10b-23f1d4b837ac  base\n",
      "scikit-learn_0.19-py3.6          f963fa9d-4bb7-5652-9c5d-8d9289ef6ad9  base\n",
      "tensorflow_2.4-py3.8             fe185c44-9a99-5425-986b-59bd1d2eda46  base\n",
      "-------------------------------  ------------------------------------  ----\n"
     ]
    }
   ],
   "source": [
    "wml_client.software_specifications.list(500)"
   ]
  },
  {
   "cell_type": "markdown",
   "metadata": {},
   "source": [
    "# SAVE AND DEPLOY MODEL"
   ]
  },
  {
   "cell_type": "code",
   "execution_count": 51,
   "metadata": {},
   "outputs": [
    {
     "data": {
      "text/plain": [
       "'1.0.2'"
      ]
     },
     "execution_count": 51,
     "metadata": {},
     "output_type": "execute_result"
    }
   ],
   "source": [
    "import sklearn\n",
    "sklearn.__version__"
   ]
  },
  {
   "cell_type": "code",
   "execution_count": 52,
   "metadata": {},
   "outputs": [],
   "source": [
    "MODEL_NAME = 'xgboost_classifier_and_hyperparameter_tuning_85 (1)'\n",
    "DEPLOYMENT_NAME = 'liver'\n",
    "DEMO_MODEL = model"
   ]
  },
  {
   "cell_type": "code",
   "execution_count": 53,
   "metadata": {},
   "outputs": [],
   "source": [
    "# Set Python Version\n",
    "software_spec_uid = wml_client.software_specifications.get_id_by_name('runtime-22.1-py3.9')"
   ]
  },
  {
   "cell_type": "code",
   "execution_count": 54,
   "metadata": {},
   "outputs": [],
   "source": [
    "# Setup model meta\n",
    "model_props = {\n",
    "    wml_client.repository.ModelMetaNames.NAME: MODEL_NAME, \n",
    "    wml_client.repository.ModelMetaNames.TYPE: 'scikit-learn_1.0', \n",
    "    wml_client.repository.ModelMetaNames.SOFTWARE_SPEC_UID: software_spec_uid \n",
    "}"
   ]
  },
  {
   "cell_type": "code",
   "execution_count": 55,
   "metadata": {},
   "outputs": [],
   "source": [
    "#Save model\n",
    "model_details = wml_client.repository.store_model(\n",
    "    model=DEMO_MODEL, \n",
    "    meta_props=model_props, \n",
    "    training_data=X_train, \n",
    "    training_target=y_train\n",
    ")"
   ]
  },
  {
   "cell_type": "code",
   "execution_count": 56,
   "metadata": {},
   "outputs": [
    {
     "data": {
      "text/plain": [
       "{'entity': {'hybrid_pipeline_software_specs': [],\n",
       "  'label_column': 'l1',\n",
       "  'schemas': {'input': [{'fields': [{'name': 'f0', 'type': 'float'},\n",
       "      {'name': 'f1', 'type': 'float'},\n",
       "      {'name': 'f2', 'type': 'float'},\n",
       "      {'name': 'f3', 'type': 'float'},\n",
       "      {'name': 'f4', 'type': 'float'},\n",
       "      {'name': 'f5', 'type': 'float'}],\n",
       "     'id': '1',\n",
       "     'type': 'struct'}],\n",
       "   'output': []},\n",
       "  'software_spec': {'id': '12b83a17-24d8-5082-900f-0ab31fbfd3cb',\n",
       "   'name': 'runtime-22.1-py3.9'},\n",
       "  'type': 'scikit-learn_1.0'},\n",
       " 'metadata': {'created_at': '2022-11-14T13:20:46.435Z',\n",
       "  'id': '3902c88a-7906-46a6-877b-a74cc91782a7',\n",
       "  'modified_at': '2022-11-14T13:20:52.836Z',\n",
       "  'name': 'xgboost_classifier_and_hyperparameter_tuning_85 (1)',\n",
       "  'owner': 'IBMid-667000D40I',\n",
       "  'resource_key': '39d6714a-705a-4570-825b-c5495d01a815',\n",
       "  'space_id': '16f09ae2-fea1-43c5-beb7-b9cde7c7398b'},\n",
       " 'system': {'warnings': []}}"
      ]
     },
     "execution_count": 56,
     "metadata": {},
     "output_type": "execute_result"
    }
   ],
   "source": [
    "model_details"
   ]
  },
  {
   "cell_type": "code",
   "execution_count": 57,
   "metadata": {},
   "outputs": [
    {
     "data": {
      "text/plain": [
       "'3902c88a-7906-46a6-877b-a74cc91782a7'"
      ]
     },
     "execution_count": 57,
     "metadata": {},
     "output_type": "execute_result"
    }
   ],
   "source": [
    "model_id = wml_client.repository.get_model_id(model_details)\n",
    "model_id"
   ]
  },
  {
   "cell_type": "code",
   "execution_count": 58,
   "metadata": {},
   "outputs": [],
   "source": [
    "# Set meta\n",
    "deployment_props = {\n",
    "    wml_client.deployments.ConfigurationMetaNames.NAME:DEPLOYMENT_NAME, \n",
    "    wml_client.deployments.ConfigurationMetaNames.ONLINE: {}\n",
    "}"
   ]
  },
  {
   "cell_type": "code",
   "execution_count": 59,
   "metadata": {},
   "outputs": [
    {
     "name": "stdout",
     "output_type": "stream",
     "text": [
      "\n",
      "\n",
      "#######################################################################################\n",
      "\n",
      "Synchronous deployment creation for uid: '3902c88a-7906-46a6-877b-a74cc91782a7' started\n",
      "\n",
      "#######################################################################################\n",
      "\n",
      "\n",
      "initializing\n",
      "Note: online_url is deprecated and will be removed in a future release. Use serving_urls instead.\n",
      "\n",
      "ready\n",
      "\n",
      "\n",
      "------------------------------------------------------------------------------------------------\n",
      "Successfully finished deployment creation, deployment_uid='61158191-4047-4d6d-ae8a-b137b0c8c2d2'\n",
      "------------------------------------------------------------------------------------------------\n",
      "\n",
      "\n"
     ]
    }
   ],
   "source": [
    "# Deploy\n",
    "deployment = wml_client.deployments.create(\n",
    "    artifact_uid=model_id, \n",
    "    meta_props=deployment_props \n",
    ")"
   ]
  },
  {
   "cell_type": "code",
   "execution_count": null,
   "metadata": {},
   "outputs": [],
   "source": []
  },
  {
   "cell_type": "code",
   "execution_count": null,
   "metadata": {},
   "outputs": [],
   "source": []
  },
  {
   "cell_type": "code",
   "execution_count": null,
   "metadata": {},
   "outputs": [],
   "source": []
  },
  {
   "cell_type": "markdown",
   "metadata": {
    "id": "-ztPd9vP2EX_",
    "papermill": {
     "duration": 0.08393,
     "end_time": "2020-11-09T07:11:03.092448",
     "exception": false,
     "start_time": "2020-11-09T07:11:03.008518",
     "status": "completed"
    },
    "tags": []
   },
   "source": [
    "## Conclusion\n",
    "In this kernel I've tried to present basic work of data scientist. As I am just starting, excuse possible mistakes and propose better solutions in comment section.\n",
    "\n",
    "This is my **very first kernel on kaggle**, give me thumb up if you enjoyed at least a bit ;)"
   ]
  }
 ],
 "metadata": {
  "accelerator": "GPU",
  "colab": {
   "collapsed_sections": [
    "-ztPd9vP2EX_"
   ],
   "provenance": []
  },
  "gpuClass": "standard",
  "kernelspec": {
   "display_name": "Python 3.9",
   "language": "python",
   "name": "python3"
  },
  "language_info": {
   "codemirror_mode": {
    "name": "ipython",
    "version": 3
   },
   "file_extension": ".py",
   "mimetype": "text/x-python",
   "name": "python",
   "nbconvert_exporter": "python",
   "pygments_lexer": "ipython3",
   "version": "3.9.13"
  },
  "papermill": {
   "duration": 927.361163,
   "end_time": "2020-11-09T07:11:04.787083",
   "environment_variables": {},
   "exception": null,
   "input_path": "__notebook__.ipynb",
   "output_path": "__notebook__.ipynb",
   "parameters": {},
   "start_time": "2020-11-09T06:55:37.425920",
   "version": "1.2.1"
  }
 },
 "nbformat": 4,
 "nbformat_minor": 1
}
